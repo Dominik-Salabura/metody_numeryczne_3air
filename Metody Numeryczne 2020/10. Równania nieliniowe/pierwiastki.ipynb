{
 "metadata": {
  "language_info": {
   "codemirror_mode": {
    "name": "ipython",
    "version": 3
   },
   "file_extension": ".py",
   "mimetype": "text/x-python",
   "name": "python",
   "nbconvert_exporter": "python",
   "pygments_lexer": "ipython3",
   "version": "3.8.5-final"
  },
  "orig_nbformat": 2,
  "kernelspec": {
   "name": "python3",
   "display_name": "Python 3",
   "language": "python"
  }
 },
 "nbformat": 4,
 "nbformat_minor": 2,
 "cells": [
  {
   "source": [
    "# Pierwiastki wielomianów\n",
    "## Metody Numeryczne\n",
    "### dr hab. Jerzy Baranowski, prof. AGH"
   ],
   "cell_type": "markdown",
   "metadata": {}
  },
  {
   "source": [
    "## Twierdzenie Abela\n",
    "- Dla każdego $m\\geq5$ istnieje wielomian $p(x)$ stopnia $m$ o wymiernych współczynnikach, który ma pierwiastek rzeczywisty $p(r)=0$, o takiej własności, że $r$ nie może zostać zapisane w formie wyrażenia zawierającego liczby wymierne, dodawanie, odejmowanie, mnożenie, dzielenie i pierwiastki różnych stopni.\n",
    "- **Konsekwencja**: pierwiastki wielomianu można wyznaczyć wyłącznie iteracyjnie\n"
   ],
   "cell_type": "markdown",
   "metadata": {}
  },
  {
   "source": [
    "## Wartości i wektory własne macierzy\n",
    "\n",
    "Niech $A$ będzie zespoloną macierzą kwadratową. Niezerowy wektor zespolony $w$ jest wektorem własnym $A$, zaś $\\lambda\\in C$  jest odpowiadającą mu wartością własną, jeżeli\n",
    "\n",
    "$$\n",
    "Aw=\\lambda w\n",
    "$$\n"
   ],
   "cell_type": "markdown",
   "metadata": {}
  },
  {
   "source": [
    "## Interpretacja geometryczna"
   ],
   "cell_type": "markdown",
   "metadata": {}
  },
  {
   "cell_type": "code",
   "execution_count": 83,
   "metadata": {},
   "outputs": [
    {
     "output_type": "execute_result",
     "data": {
      "text/plain": [
       "Text(1.7, 1, '$Aw= \\\\begin{bmatrix}  2 \\\\\\\\ 4  \\\\end{bmatrix}$')"
      ]
     },
     "metadata": {},
     "execution_count": 83
    },
    {
     "output_type": "display_data",
     "data": {
      "text/plain": "<Figure size 504x288 with 1 Axes>",
      "image/svg+xml": "<?xml version=\"1.0\" encoding=\"utf-8\" standalone=\"no\"?>\n<!DOCTYPE svg PUBLIC \"-//W3C//DTD SVG 1.1//EN\"\n  \"http://www.w3.org/Graphics/SVG/1.1/DTD/svg11.dtd\">\n<!-- Created with matplotlib (https://matplotlib.org/) -->\n<svg height=\"271.78693pt\" version=\"1.1\" viewBox=\"0 0 269.494767 271.78693\" width=\"269.494767pt\" xmlns=\"http://www.w3.org/2000/svg\" xmlns:xlink=\"http://www.w3.org/1999/xlink\">\n <metadata>\n  <rdf:RDF xmlns:cc=\"http://creativecommons.org/ns#\" xmlns:dc=\"http://purl.org/dc/elements/1.1/\" xmlns:rdf=\"http://www.w3.org/1999/02/22-rdf-syntax-ns#\">\n   <cc:Work>\n    <dc:type rdf:resource=\"http://purl.org/dc/dcmitype/StillImage\"/>\n    <dc:date>2021-01-01T15:28:01.637841</dc:date>\n    <dc:format>image/svg+xml</dc:format>\n    <dc:creator>\n     <cc:Agent>\n      <dc:title>Matplotlib v3.3.2, https://matplotlib.org/</dc:title>\n     </cc:Agent>\n    </dc:creator>\n   </cc:Work>\n  </rdf:RDF>\n </metadata>\n <defs>\n  <style type=\"text/css\">*{stroke-linecap:butt;stroke-linejoin:round;}</style>\n </defs>\n <g id=\"figure_1\">\n  <g id=\"patch_1\">\n   <path d=\"M 0 271.78693 \nL 269.494767 271.78693 \nL 269.494767 0 \nL 0 0 \nz\n\" style=\"fill:none;\"/>\n  </g>\n  <g id=\"axes_1\">\n   <g id=\"patch_2\">\n    <path d=\"M 44.854767 228.79109 \nL 262.294767 228.79109 \nL 262.294767 11.35109 \nL 44.854767 11.35109 \nz\n\" style=\"fill:#ffffff;\"/>\n   </g>\n   <g id=\"matplotlib.axis_1\">\n    <g id=\"xtick_1\">\n     <g id=\"line2d_1\">\n      <defs>\n       <path d=\"M 0 0 \nL 0 3.5 \n\" id=\"m617cfd2fe9\" style=\"stroke:#000000;stroke-width:0.8;\"/>\n      </defs>\n      <g>\n       <use style=\"stroke:#000000;stroke-width:0.8;\" x=\"44.854767\" xlink:href=\"#m617cfd2fe9\" y=\"228.79109\"/>\n      </g>\n     </g>\n     <g id=\"text_1\">\n      <!-- 0 -->\n      <g transform=\"translate(41.928272 244.09327)scale(0.12 -0.12)\">\n       <defs>\n        <path d=\"M 43.09375 32.390625 \nC 43.09375 38.109375 43 48.75 38.90625 56.984375 \nC 34.796875 64.890625 28.203125 67 23.5 67 \nC 16.703125 67 10.90625 62.984375 7.90625 56.578125 \nC 4.703125 49.859375 3.796875 42.9375 3.796875 32.390625 \nC 3.796875 25.171875 4.09375 16.34375 7.703125 8.609375 \nC 11.796875 0.09375 18.703125 -2 23.40625 -2 \nC 29.59375 -2 35.59375 1.296875 39 8.203125 \nC 42.5 15.4375 43.09375 23.359375 43.09375 32.390625 \nz\nM 23.40625 4.09375 \nC 15.796875 4.09375 13.5 12.828125 12.796875 15.734375 \nC 11.59375 20.75 11.40625 25.5625 11.40625 33.5 \nC 11.40625 39.71875 11.40625 46.75 13.296875 52.265625 \nC 15.59375 58.6875 19.59375 60.890625 23.40625 60.890625 \nC 30.796875 60.890625 33.203125 53.46875 34 50.859375 \nC 35.5 45.546875 35.5 39.3125 35.5 33.5 \nC 35.5 24.15625 35.5 4.09375 23.40625 4.09375 \nz\n\" id=\"CMSS17-48\"/>\n       </defs>\n       <use transform=\"scale(0.996264)\" xlink:href=\"#CMSS17-48\"/>\n      </g>\n     </g>\n    </g>\n    <g id=\"xtick_2\">\n     <g id=\"line2d_2\">\n      <g>\n       <use style=\"stroke:#000000;stroke-width:0.8;\" x=\"99.214767\" xlink:href=\"#m617cfd2fe9\" y=\"228.79109\"/>\n      </g>\n     </g>\n     <g id=\"text_2\">\n      <!-- $w_1$ -->\n      <g transform=\"translate(92.913758 244.09327)scale(0.12 -0.12)\">\n       <defs>\n        <path d=\"M 34.40625 6.078125 \nC 36.59375 0.09375 42.796875 -1 46.59375 -1 \nC 54.203125 -1 58.703125 5.578125 61.5 12.46875 \nC 63.796875 18.25 67.5 31.421875 67.5 37.3125 \nC 67.5 43.390625 64.40625 44 63.5 44 \nC 61.09375 44 58.90625 41.59375 58.90625 39.59375 \nC 58.90625 38.40625 59.59375 37.703125 60.09375 37.3125 \nC 61 36.40625 63.59375 33.71875 63.59375 28.53125 \nC 63.59375 25.140625 60.796875 15.75 58.703125 11.0625 \nC 55.90625 4.984375 52.203125 1 47 1 \nC 41.40625 1 39.59375 5.1875 39.59375 9.765625 \nC 39.59375 12.65625 40.5 16.15625 40.90625 17.84375 \nL 45.09375 34.609375 \nC 45.59375 36.609375 46.5 40.09375 46.5 40.484375 \nC 46.5 41.984375 45.296875 43 43.796875 43 \nC 40.90625 43 40.203125 40.484375 39.59375 38.09375 \nC 38.59375 34.203125 34.40625 17.34375 34 15.15625 \nC 33.59375 13.453125 33.59375 12.359375 33.59375 10.171875 \nC 33.59375 7.78125 30.40625 3.984375 30.296875 3.78125 \nC 29.203125 2.6875 27.59375 1 24.5 1 \nC 16.59375 1 16.59375 8.46875 16.59375 10.171875 \nC 16.59375 13.359375 17.296875 17.75 21.796875 29.625 \nC 23 32.71875 23.5 34.015625 23.5 36.015625 \nC 23.5 40.203125 20.5 44 15.59375 44 \nC 6.40625 44 2.703125 29.53125 2.703125 28.71875 \nC 2.703125 28.328125 3.09375 27.828125 3.796875 27.828125 \nC 4.703125 27.828125 4.796875 28.234375 5.203125 29.625 \nC 7.703125 38.40625 11.59375 41.984375 15.296875 41.984375 \nC 16.296875 41.984375 17.90625 41.890625 17.90625 38.703125 \nC 17.90625 38.203125 17.90625 36.109375 16.203125 31.71875 \nC 11.5 19.25 10.5 15.15625 10.5 11.375 \nC 10.5 0.890625 19.09375 -1 24.203125 -1 \nC 25.90625 -1 30.40625 -1 34.40625 6.078125 \nz\n\" id=\"CMMI12-119\"/>\n        <path d=\"M 26.59375 63.796875 \nC 26.59375 65.890625 26.5 66 25.09375 66 \nC 21.203125 61.359375 15.296875 59.890625 9.703125 59.6875 \nC 9.40625 59.6875 8.90625 59.6875 8.796875 59.5 \nC 8.703125 59.296875 8.703125 59.09375 8.703125 57 \nC 11.796875 57 17 57.59375 21 59.984375 \nL 21 7.296875 \nC 21 3.796875 20.796875 2.59375 12.203125 2.59375 \nL 9.203125 2.59375 \nL 9.203125 0 \nC 14 0.09375 19 0.1875 23.796875 0.1875 \nC 28.59375 0.1875 33.59375 0.09375 38.40625 0 \nL 38.40625 2.59375 \nL 35.40625 2.59375 \nC 26.796875 2.59375 26.59375 3.6875 26.59375 7.296875 \nz\n\" id=\"CMR17-49\"/>\n       </defs>\n       <use transform=\"scale(0.996264)\" xlink:href=\"#CMMI12-119\"/>\n       <use transform=\"translate(69.73199 -14.943915)scale(0.697382)\" xlink:href=\"#CMR17-49\"/>\n      </g>\n     </g>\n    </g>\n    <g id=\"xtick_3\">\n     <g id=\"line2d_3\">\n      <g>\n       <use style=\"stroke:#000000;stroke-width:0.8;\" x=\"153.574767\" xlink:href=\"#m617cfd2fe9\" y=\"228.79109\"/>\n      </g>\n     </g>\n     <g id=\"text_3\">\n      <!-- $\\lambda w_1$ -->\n      <g transform=\"translate(143.859513 244.09327)scale(0.12 -0.12)\">\n       <defs>\n        <path d=\"M 30.90625 61.921875 \nC 28.40625 69 20.5 69 19.203125 69 \nC 18.59375 69 17.5 69 17.5 67.984375 \nC 17.5 67.1875 18.09375 67.09375 18.59375 66.984375 \nC 20.09375 66.796875 21.296875 66.59375 22.90625 63.71875 \nC 23.90625 61.828125 34.203125 32.109375 34.203125 31.90625 \nC 34.203125 31.8125 34.09375 31.703125 33.296875 30.90625 \nL 7.296875 4.765625 \nC 6.09375 3.578125 5.296875 2.78125 5.296875 1.484375 \nC 5.296875 0.09375 6.5 -1.109375 8.09375 -1.109375 \nC 8.5 -1.109375 9.59375 -0.90625 10.203125 -0.3125 \nC 11.796875 1.1875 26.09375 18.59375 35.203125 29.328125 \nC 37.796875 21.5625 41 12.421875 44.09375 4.078125 \nC 44.59375 2.578125 45.09375 1.1875 46.5 -0.109375 \nC 47.5 -1 47.703125 -1 50.5 -1 \nL 52.40625 -1 \nC 52.796875 -1 53.5 -1 53.5 -0.203125 \nC 53.5 0.1875 53.40625 0.296875 53 0.6875 \nC 52.09375 1.78125 51.40625 3.578125 51 4.765625 \nz\n\" id=\"CMMI12-21\"/>\n       </defs>\n       <use transform=\"scale(0.996264)\" xlink:href=\"#CMMI12-21\"/>\n       <use transform=\"translate(56.904072 0)scale(0.996264)\" xlink:href=\"#CMMI12-119\"/>\n       <use transform=\"translate(126.636061 -14.943915)scale(0.697382)\" xlink:href=\"#CMR17-49\"/>\n      </g>\n     </g>\n    </g>\n    <g id=\"text_4\">\n     <!-- $x_1$ -->\n     <g transform=\"translate(146.350508 261.487454)scale(0.16 -0.16)\">\n      <defs>\n       <path d=\"M 47.40625 41 \nC 44.203125 40.390625 43 37.984375 43 36.09375 \nC 43 33.6875 44.90625 32.890625 46.296875 32.890625 \nC 49.296875 32.890625 51.40625 35.484375 51.40625 38.1875 \nC 51.40625 42.09375 46.59375 44 42.40625 44 \nC 36.296875 44 32.90625 38.296875 32 36.390625 \nC 29.703125 43.59375 23.5 44 21.703125 44 \nC 11.5 44 6.09375 31.140625 6.09375 28.890625 \nC 6.09375 28.484375 6.5 27.96875 7.203125 27.96875 \nC 8 27.96875 8.203125 28.578125 8.40625 28.984375 \nC 11.796875 40.1875 18.5 41.984375 21.40625 41.984375 \nC 25.90625 41.984375 26.796875 38.09375 26.796875 35.6875 \nC 26.796875 33.484375 26.203125 31.140625 25 26.21875 \nL 21.59375 12.15625 \nC 20.09375 6.09375 17.203125 1 11.90625 1 \nC 11.40625 1 8.90625 1 6.796875 1.96875 \nC 10.40625 2.59375 11.203125 5.59375 11.203125 6.796875 \nC 11.203125 8.796875 9.703125 10 7.796875 10 \nC 5.40625 10 2.796875 7.890625 2.796875 4.6875 \nC 2.796875 0.890625 7.5 -1 11.796875 -1 \nC 16.59375 -1 20 2.390625 22.09375 6.484375 \nC 23.703125 1 28.703125 -1 32.40625 -1 \nC 42.59375 -1 48 11.734375 48 14 \nC 48 14.515625 47.59375 14.921875 47 14.921875 \nC 46.09375 14.921875 46 14.40625 45.703125 13.59375 \nC 43 4.6875 37.203125 1 32.703125 1 \nC 29.203125 1 27.296875 3.1875 27.296875 7.296875 \nC 27.296875 9.484375 27.703125 11.125 29.296875 17.90625 \nL 32.796875 31.859375 \nC 34.296875 37.890625 37.703125 41.984375 42.296875 41.984375 \nC 42.5 41.984375 45.296875 41.984375 47.40625 41 \nz\n\" id=\"CMMI12-120\"/>\n      </defs>\n      <use transform=\"scale(0.996264)\" xlink:href=\"#CMMI12-120\"/>\n      <use transform=\"translate(55.43406 -14.943915)scale(0.697382)\" xlink:href=\"#CMR17-49\"/>\n     </g>\n    </g>\n   </g>\n   <g id=\"matplotlib.axis_2\">\n    <g id=\"ytick_1\">\n     <g id=\"line2d_4\">\n      <defs>\n       <path d=\"M 0 0 \nL -3.5 0 \n\" id=\"m30e491a45f\" style=\"stroke:#000000;stroke-width:0.8;\"/>\n      </defs>\n      <g>\n       <use style=\"stroke:#000000;stroke-width:0.8;\" x=\"44.854767\" xlink:href=\"#m30e491a45f\" y=\"228.79109\"/>\n      </g>\n     </g>\n     <g id=\"text_5\">\n      <!-- 0 -->\n      <g transform=\"translate(32.001777 232.94218)scale(0.12 -0.12)\">\n       <use transform=\"scale(0.996264)\" xlink:href=\"#CMSS17-48\"/>\n      </g>\n     </g>\n    </g>\n    <g id=\"ytick_2\">\n     <g id=\"line2d_5\">\n      <g>\n       <use style=\"stroke:#000000;stroke-width:0.8;\" x=\"44.854767\" xlink:href=\"#m30e491a45f\" y=\"120.07109\"/>\n      </g>\n     </g>\n     <g id=\"text_6\">\n      <!-- $w_2$ -->\n      <g transform=\"translate(25.252748 124.22218)scale(0.12 -0.12)\">\n       <defs>\n        <path d=\"M 41.703125 15.46875 \nL 39.90625 15.46875 \nC 38.90625 8.390625 38.09375 7.1875 37.703125 6.59375 \nC 37.203125 5.796875 30 5.796875 28.59375 5.796875 \nL 9.40625 5.796875 \nC 13 9.6875 20 16.765625 28.5 24.9375 \nC 34.59375 30.71875 41.703125 37.5 41.703125 47.390625 \nC 41.703125 59.1875 32.296875 66 21.796875 66 \nC 10.796875 66 4.09375 56.296875 4.09375 47.296875 \nC 4.09375 43.390625 7 42.890625 8.203125 42.890625 \nC 9.203125 42.890625 12.203125 43.484375 12.203125 46.984375 \nC 12.203125 50.09375 9.59375 51 8.203125 51 \nC 7.59375 51 7 50.890625 6.59375 50.6875 \nC 8.5 59.1875 14.296875 63.390625 20.40625 63.390625 \nC 29.09375 63.390625 34.796875 56.5 34.796875 47.390625 \nC 34.796875 38.703125 29.703125 31.21875 24 24.734375 \nL 4.09375 2.296875 \nL 4.09375 0 \nL 39.296875 0 \nz\n\" id=\"CMR17-50\"/>\n       </defs>\n       <use transform=\"scale(0.996264)\" xlink:href=\"#CMMI12-119\"/>\n       <use transform=\"translate(69.73199 -14.943915)scale(0.697382)\" xlink:href=\"#CMR17-50\"/>\n      </g>\n     </g>\n    </g>\n    <g id=\"ytick_3\">\n     <g id=\"line2d_6\">\n      <g>\n       <use style=\"stroke:#000000;stroke-width:0.8;\" x=\"44.854767\" xlink:href=\"#m30e491a45f\" y=\"11.35109\"/>\n      </g>\n     </g>\n     <g id=\"text_7\">\n      <!-- $\\lambda w_2$ -->\n      <g transform=\"translate(18.424259 15.50218)scale(0.12 -0.12)\">\n       <use transform=\"scale(0.996264)\" xlink:href=\"#CMMI12-21\"/>\n       <use transform=\"translate(56.904072 0)scale(0.996264)\" xlink:href=\"#CMMI12-119\"/>\n       <use transform=\"translate(126.636061 -14.943915)scale(0.697382)\" xlink:href=\"#CMR17-50\"/>\n      </g>\n     </g>\n    </g>\n    <g id=\"text_8\">\n     <!-- $x_2$ -->\n     <g transform=\"translate(7.2 116.971614)scale(0.16 -0.16)\">\n      <use transform=\"scale(0.996264)\" xlink:href=\"#CMMI12-120\"/>\n      <use transform=\"translate(55.43406 -14.943915)scale(0.697382)\" xlink:href=\"#CMR17-50\"/>\n     </g>\n    </g>\n   </g>\n   <g id=\"patch_3\">\n    <path d=\"M 44.854767 228.79109 \nL 44.854767 11.35109 \n\" style=\"fill:none;stroke:#000000;stroke-linecap:square;stroke-linejoin:miter;stroke-width:0.8;\"/>\n   </g>\n   <g id=\"patch_4\">\n    <path d=\"M 262.294767 228.79109 \nL 262.294767 11.35109 \n\" style=\"fill:none;stroke:#000000;stroke-linecap:square;stroke-linejoin:miter;stroke-width:0.8;\"/>\n   </g>\n   <g id=\"patch_5\">\n    <path d=\"M 44.854767 228.79109 \nL 262.294767 228.79109 \n\" style=\"fill:none;stroke:#000000;stroke-linecap:square;stroke-linejoin:miter;stroke-width:0.8;\"/>\n   </g>\n   <g id=\"patch_6\">\n    <path d=\"M 44.854767 11.35109 \nL 262.294767 11.35109 \n\" style=\"fill:none;stroke:#000000;stroke-linecap:square;stroke-linejoin:miter;stroke-width:0.8;\"/>\n   </g>\n   <g id=\"patch_7\">\n    <path d=\"M 45.748933 227.002757 \nQ 99.215154 120.070317 152.181374 14.137877 \n\" style=\"fill:none;stroke:#ff0000;stroke-linecap:round;\"/>\n    <path d=\"M 148.603665 16.821158 \nL 152.181374 14.137877 \nL 152.181374 18.610013 \n\" style=\"fill:none;stroke:#ff0000;stroke-linecap:round;\"/>\n   </g>\n   <g id=\"patch_8\">\n    <path d=\"M 45.748933 227.002757 \nQ 72.033963 174.432698 97.818993 122.862639 \n\" style=\"fill:none;stroke:#000000;stroke-linecap:round;\"/>\n    <path d=\"M 94.241284 125.545921 \nL 97.818993 122.862639 \nL 97.818993 127.334775 \n\" style=\"fill:none;stroke:#000000;stroke-linecap:round;\"/>\n   </g>\n   <g id=\"text_9\">\n    <!-- $w$ -->\n    <g transform=\"translate(61.162767 160.84109)scale(0.16 -0.16)\">\n     <use transform=\"scale(0.996264)\" xlink:href=\"#CMMI12-119\"/>\n    </g>\n   </g>\n   <g id=\"text_10\">\n    <!-- $Aw$ -->\n    <g style=\"fill:#ff0000;\" transform=\"translate(82.906767 98.32709)scale(0.16 -0.16)\">\n     <defs>\n      <path d=\"M 17 11.25 \nC 13.5 5.234375 10.09375 3.203125 5.296875 2.890625 \nC 4.203125 2.796875 3.40625 2.796875 3.40625 1 \nC 3.40625 0.390625 3.90625 0 4.59375 0 \nC 6.40625 0 10.90625 0.1875 12.703125 0.1875 \nC 15.59375 0.1875 18.796875 0 21.59375 0 \nC 22.203125 0 23.40625 0 23.40625 1.890625 \nC 23.40625 2.796875 22.59375 2.890625 22 2.890625 \nC 19.703125 3.09375 17.796875 3.90625 17.796875 6.359375 \nC 17.796875 7.78125 18.40625 8.90625 19.703125 11.15625 \nL 27.296875 24 \nL 52.796875 24 \nC 52.90625 23.078125 52.90625 22.265625 53 21.34375 \nC 53.296875 18.6875 54.5 8.09375 54.5 6.15625 \nC 54.5 3.09375 49.40625 2.890625 47.796875 2.890625 \nC 46.703125 2.890625 45.59375 2.890625 45.59375 1.09375 \nC 45.59375 0 46.5 0 47.09375 0 \nC 48.796875 0 50.796875 0.1875 52.5 0.1875 \nL 58.203125 0.1875 \nC 64.296875 0.1875 68.703125 0 68.796875 0 \nC 69.5 0 70.59375 0 70.59375 1.890625 \nC 70.59375 2.890625 69.703125 2.890625 68.203125 2.890625 \nC 62.703125 2.890625 62.59375 3.8125 62.296875 6.875 \nL 56.203125 68.796875 \nC 56 70.796875 55.59375 71 54.5 71 \nC 53.5 71 52.90625 70.796875 52 69.296875 \nz\nM 29 26.890625 \nL 49.09375 59.859375 \nL 52.5 26.890625 \nz\n\" id=\"CMMI12-65\"/>\n     </defs>\n     <use transform=\"scale(0.996264)\" xlink:href=\"#CMMI12-65\"/>\n     <use transform=\"translate(73.127885 0)scale(0.996264)\" xlink:href=\"#CMMI12-119\"/>\n    </g>\n   </g>\n   <g id=\"text_11\">\n    <!-- $A= \\begin{bmatrix} 0 &amp; 1 \\\\ -2 &amp; 3  \\end{bmatrix}$ -->\n    <g transform=\"translate(148.138767 65.71109)scale(0.16 -0.16)\">\n     <defs>\n      <path d=\"M 64.296875 32 \nC 65.796875 32 67.296875 32 67.296875 33.6875 \nC 67.296875 35.5 65.59375 35.5 63.90625 35.5 \nL 8 35.5 \nC 6.296875 35.5 4.59375 35.5 4.59375 33.6875 \nC 4.59375 32 6.09375 32 7.59375 32 \nz\nM 63.90625 14.484375 \nC 65.59375 14.484375 67.296875 14.484375 67.296875 16.296875 \nC 67.296875 18 65.796875 18 64.296875 18 \nL 7.59375 18 \nC 6.09375 18 4.59375 18 4.59375 16.296875 \nC 4.59375 14.484375 6.296875 14.484375 8 14.484375 \nz\n\" id=\"CMR17-61\"/>\n      <path d=\"M 32.59375 -176 \nL 39.5 -176 \nL 39.5 -3 \nL 65.90625 -3 \nL 65.90625 3.890625 \nL 32.59375 3.890625 \nz\n\" id=\"CMEX10-50\"/>\n      <path d=\"M 32.59375 -60.109375 \nL 39.5 -60.109375 \nL 39.5 0 \nL 32.59375 0 \nz\n\" id=\"CMEX10-54\"/>\n      <path d=\"M 32.59375 -175.90625 \nL 65.90625 -175.90625 \nL 65.90625 -169 \nL 39.5 -169 \nL 39.5 4 \nL 32.59375 4 \nz\n\" id=\"CMEX10-52\"/>\n      <path d=\"M 42 31.84375 \nC 42 37.96875 41.90625 48.421875 37.703125 56.453125 \nC 34 63.484375 28.09375 66 22.90625 66 \nC 18.09375 66 12 63.78125 8.203125 56.5625 \nC 4.203125 49.015625 3.796875 39.671875 3.796875 31.84375 \nC 3.796875 26.109375 3.90625 17.375 7 9.734375 \nC 11.296875 -0.609375 19 -2 22.90625 -2 \nC 27.5 -2 34.5 -0.109375 38.59375 9.4375 \nC 41.59375 16.375 42 24.5 42 31.84375 \nz\nM 22.90625 -0.40625 \nC 16.5 -0.40625 12.703125 5.125 11.296875 12.75 \nC 10.203125 18.6875 10.203125 27.328125 10.203125 32.953125 \nC 10.203125 40.6875 10.203125 47.109375 11.5 53.234375 \nC 13.40625 61.78125 19 64.390625 22.90625 64.390625 \nC 27 64.390625 32.296875 61.671875 34.203125 53.4375 \nC 35.5 47.71875 35.59375 40.984375 35.59375 32.953125 \nC 35.59375 26.421875 35.59375 18.375 34.40625 12.453125 \nC 32.296875 1.5 26.40625 -0.40625 22.90625 -0.40625 \nz\n\" id=\"CMR17-48\"/>\n      <path d=\"M 65.90625 23 \nC 67.59375 23 69.40625 23 69.40625 25 \nC 69.40625 27 67.59375 27 65.90625 27 \nL 11.796875 27 \nC 10.09375 27 8.296875 27 8.296875 25 \nC 8.296875 23 10.09375 23 11.796875 23 \nz\n\" id=\"CMSY10-0\"/>\n      <path d=\"M 22.09375 34 \nC 31 34 34.90625 26.140625 34.90625 17.09375 \nC 34.90625 5.03125 28.5 0.390625 22.703125 0.390625 \nC 17.40625 0.390625 8.796875 3.015625 6.09375 10.796875 \nC 6.59375 10.59375 7.09375 10.59375 7.59375 10.59375 \nC 10 10.59375 11.796875 12.1875 11.796875 14.796875 \nC 11.796875 17.6875 9.59375 19 7.59375 19 \nC 5.90625 19 3.296875 18.1875 3.296875 14.484375 \nC 3.296875 5.234375 12.296875 -2 22.90625 -2 \nC 34 -2 42.5 6.75 42.5 16.984375 \nC 42.5 26.84375 34.5 34 25 35.09375 \nC 32.59375 36.671875 39.90625 43.375 39.90625 52.390625 \nC 39.90625 60.25 32 66 23 66 \nC 13.90625 66 5.90625 60.34375 5.90625 52.296875 \nC 5.90625 48.796875 8.5 48.1875 9.796875 48.1875 \nC 11.90625 48.1875 13.703125 49.484375 13.703125 52.09375 \nC 13.703125 54.6875 11.90625 56 9.796875 56 \nC 9.40625 56 8.90625 56 8.5 55.796875 \nC 11.40625 62.484375 19.296875 63.6875 22.796875 63.6875 \nC 26.296875 63.6875 32.90625 61.96875 32.90625 52.296875 \nC 32.90625 49.484375 32.5 44.546875 29.09375 40.21875 \nC 26.09375 36.390625 22.703125 36.1875 19.40625 35.890625 \nC 18.90625 35.890625 16.59375 35.6875 16.203125 35.6875 \nC 15.5 35.59375 15.09375 35.5 15.09375 34.796875 \nC 15.09375 34.09375 15.203125 34 17.203125 34 \nz\n\" id=\"CMR17-51\"/>\n      <path d=\"M 27.09375 -176 \nL 34 -176 \nL 34 3.890625 \nL 0.703125 3.890625 \nL 0.703125 -3 \nL 27.09375 -3 \nz\n\" id=\"CMEX10-51\"/>\n      <path d=\"M 27.09375 -60.109375 \nL 34 -60.109375 \nL 34 0 \nL 27.09375 0 \nz\n\" id=\"CMEX10-55\"/>\n      <path d=\"M 27.09375 -169 \nL 0.703125 -169 \nL 0.703125 -175.90625 \nL 34 -175.90625 \nL 34 4 \nL 27.09375 4 \nz\n\" id=\"CMEX10-53\"/>\n     </defs>\n     <use transform=\"scale(0.996264)\" xlink:href=\"#CMMI12-65\"/>\n     <use transform=\"translate(100.801894 0)scale(0.996264)\" xlink:href=\"#CMR17-61\"/>\n     <use transform=\"translate(200.190691 150.330335)scale(0.247871)\" xlink:href=\"#CMEX10-50\"/>\n     <use transform=\"translate(200.190691 106.704655)scale(0.247871)\" xlink:href=\"#CMEX10-54\"/>\n     <use transform=\"translate(200.190691 91.83228)scale(0.247871)\" xlink:href=\"#CMEX10-54\"/>\n     <use transform=\"translate(200.190691 76.959905)scale(0.247871)\" xlink:href=\"#CMEX10-54\"/>\n     <use transform=\"translate(200.190691 62.08753)scale(0.247871)\" xlink:href=\"#CMEX10-54\"/>\n     <use transform=\"translate(200.190691 47.215155)scale(0.247871)\" xlink:href=\"#CMEX10-54\"/>\n     <use transform=\"translate(200.190691 32.34278)scale(0.247871)\" xlink:href=\"#CMEX10-54\"/>\n     <use transform=\"translate(200.190691 17.470405)scale(0.247871)\" xlink:href=\"#CMEX10-54\"/>\n     <use transform=\"translate(200.190691 2.59803)scale(0.247871)\" xlink:href=\"#CMEX10-54\"/>\n     <use transform=\"translate(200.190691 -12.274345)scale(0.247871)\" xlink:href=\"#CMEX10-54\"/>\n     <use transform=\"translate(200.190691 -27.14672)scale(0.247871)\" xlink:href=\"#CMEX10-54\"/>\n     <use transform=\"translate(200.190691 -42.019095)scale(0.247871)\" xlink:href=\"#CMEX10-54\"/>\n     <use transform=\"translate(200.190691 -57.882915)scale(0.247871)\" xlink:href=\"#CMEX10-52\"/>\n     <use transform=\"translate(255.459173 62.266881)scale(0.996264)\" xlink:href=\"#CMR17-48\"/>\n     <use transform=\"translate(349.856024 62.266881)scale(0.996264)\" xlink:href=\"#CMR17-49\"/>\n     <use transform=\"translate(216.715439 -62.266121)scale(0.996264)\" xlink:href=\"#CMSY10-0\"/>\n     <use transform=\"translate(294.202907 -62.266121)scale(0.996264)\" xlink:href=\"#CMR17-50\"/>\n     <use transform=\"translate(349.856024 -62.266121)scale(0.996264)\" xlink:href=\"#CMR17-51\"/>\n     <use transform=\"translate(395.546501 150.330335)scale(0.247871)\" xlink:href=\"#CMEX10-51\"/>\n     <use transform=\"translate(395.546501 106.704655)scale(0.247871)\" xlink:href=\"#CMEX10-55\"/>\n     <use transform=\"translate(395.546501 91.83228)scale(0.247871)\" xlink:href=\"#CMEX10-55\"/>\n     <use transform=\"translate(395.546501 76.959905)scale(0.247871)\" xlink:href=\"#CMEX10-55\"/>\n     <use transform=\"translate(395.546501 62.08753)scale(0.247871)\" xlink:href=\"#CMEX10-55\"/>\n     <use transform=\"translate(395.546501 47.215155)scale(0.247871)\" xlink:href=\"#CMEX10-55\"/>\n     <use transform=\"translate(395.546501 32.34278)scale(0.247871)\" xlink:href=\"#CMEX10-55\"/>\n     <use transform=\"translate(395.546501 17.470405)scale(0.247871)\" xlink:href=\"#CMEX10-55\"/>\n     <use transform=\"translate(395.546501 2.59803)scale(0.247871)\" xlink:href=\"#CMEX10-55\"/>\n     <use transform=\"translate(395.546501 -12.274345)scale(0.247871)\" xlink:href=\"#CMEX10-55\"/>\n     <use transform=\"translate(395.546501 -27.14672)scale(0.247871)\" xlink:href=\"#CMEX10-55\"/>\n     <use transform=\"translate(395.546501 -42.019095)scale(0.247871)\" xlink:href=\"#CMEX10-55\"/>\n     <use transform=\"translate(395.546501 -57.882915)scale(0.247871)\" xlink:href=\"#CMEX10-53\"/>\n    </g>\n   </g>\n   <g id=\"text_12\">\n    <!-- $w= \\begin{bmatrix}  1 \\\\ 2  \\end{bmatrix},\\lambda=2$ -->\n    <g transform=\"translate(150.856767 120.07109)scale(0.16 -0.16)\">\n     <defs>\n      <path d=\"M 19.5 -0.40625 \nC 19.5 5.390625 17.59375 9.6875 13.5 9.6875 \nC 10.296875 9.6875 8.703125 7.09375 8.703125 4.890625 \nC 8.703125 2.6875 10.203125 0 13.59375 0 \nC 14.90625 0 16 0.390625 16.90625 1.296875 \nC 17.09375 1.5 17.203125 1.5 17.296875 1.5 \nC 17.5 1.5 17.5 0.09375 17.5 -0.40625 \nC 17.5 -3.640625 16.90625 -10.03125 11.09375 -16.421875 \nC 10 -17.609375 10 -17.8125 10 -18 \nC 10 -18.5 10.5 -19 11 -19 \nC 11.796875 -19 19.5 -11.703125 19.5 -0.40625 \nz\n\" id=\"CMMI12-59\"/>\n     </defs>\n     <use transform=\"scale(0.996264)\" xlink:href=\"#CMMI12-119\"/>\n     <use transform=\"translate(100.086924 0)scale(0.996264)\" xlink:href=\"#CMR17-61\"/>\n     <use transform=\"translate(199.475721 150.330335)scale(0.247871)\" xlink:href=\"#CMEX10-50\"/>\n     <use transform=\"translate(199.475721 106.704655)scale(0.247871)\" xlink:href=\"#CMEX10-54\"/>\n     <use transform=\"translate(199.475721 91.83228)scale(0.247871)\" xlink:href=\"#CMEX10-54\"/>\n     <use transform=\"translate(199.475721 76.959905)scale(0.247871)\" xlink:href=\"#CMEX10-54\"/>\n     <use transform=\"translate(199.475721 62.08753)scale(0.247871)\" xlink:href=\"#CMEX10-54\"/>\n     <use transform=\"translate(199.475721 47.215155)scale(0.247871)\" xlink:href=\"#CMEX10-54\"/>\n     <use transform=\"translate(199.475721 32.34278)scale(0.247871)\" xlink:href=\"#CMEX10-54\"/>\n     <use transform=\"translate(199.475721 17.470405)scale(0.247871)\" xlink:href=\"#CMEX10-54\"/>\n     <use transform=\"translate(199.475721 2.59803)scale(0.247871)\" xlink:href=\"#CMEX10-54\"/>\n     <use transform=\"translate(199.475721 -12.274345)scale(0.247871)\" xlink:href=\"#CMEX10-54\"/>\n     <use transform=\"translate(199.475721 -27.14672)scale(0.247871)\" xlink:href=\"#CMEX10-54\"/>\n     <use transform=\"translate(199.475721 -42.019095)scale(0.247871)\" xlink:href=\"#CMEX10-54\"/>\n     <use transform=\"translate(199.475721 -57.882915)scale(0.247871)\" xlink:href=\"#CMEX10-52\"/>\n     <use transform=\"translate(216.000469 62.266881)scale(0.996264)\" xlink:href=\"#CMR17-49\"/>\n     <use transform=\"translate(216.000469 -62.266121)scale(0.996264)\" xlink:href=\"#CMR17-50\"/>\n     <use transform=\"translate(261.690946 150.330335)scale(0.247871)\" xlink:href=\"#CMEX10-51\"/>\n     <use transform=\"translate(261.690946 106.704655)scale(0.247871)\" xlink:href=\"#CMEX10-55\"/>\n     <use transform=\"translate(261.690946 91.83228)scale(0.247871)\" xlink:href=\"#CMEX10-55\"/>\n     <use transform=\"translate(261.690946 76.959905)scale(0.247871)\" xlink:href=\"#CMEX10-55\"/>\n     <use transform=\"translate(261.690946 62.08753)scale(0.247871)\" xlink:href=\"#CMEX10-55\"/>\n     <use transform=\"translate(261.690946 47.215155)scale(0.247871)\" xlink:href=\"#CMEX10-55\"/>\n     <use transform=\"translate(261.690946 32.34278)scale(0.247871)\" xlink:href=\"#CMEX10-55\"/>\n     <use transform=\"translate(261.690946 17.470405)scale(0.247871)\" xlink:href=\"#CMEX10-55\"/>\n     <use transform=\"translate(261.690946 2.59803)scale(0.247871)\" xlink:href=\"#CMEX10-55\"/>\n     <use transform=\"translate(261.690946 -12.274345)scale(0.247871)\" xlink:href=\"#CMEX10-55\"/>\n     <use transform=\"translate(261.690946 -27.14672)scale(0.247871)\" xlink:href=\"#CMEX10-55\"/>\n     <use transform=\"translate(261.690946 -42.019095)scale(0.247871)\" xlink:href=\"#CMEX10-55\"/>\n     <use transform=\"translate(261.690946 -57.882915)scale(0.247871)\" xlink:href=\"#CMEX10-53\"/>\n     <use transform=\"translate(294.820099 0)scale(0.996264)\" xlink:href=\"#CMMI12-59\"/>\n     <use transform=\"translate(338.521681 0)scale(0.996264)\" xlink:href=\"#CMMI12-21\"/>\n     <use transform=\"translate(423.099762 0)scale(0.996264)\" xlink:href=\"#CMR17-61\"/>\n     <use transform=\"translate(522.488559 0)scale(0.996264)\" xlink:href=\"#CMR17-50\"/>\n    </g>\n   </g>\n   <g id=\"text_13\">\n    <!-- $Aw= \\begin{bmatrix}  2 \\\\ 4  \\end{bmatrix}$ -->\n    <g style=\"fill:#ff0000;\" transform=\"translate(137.266767 174.43109)scale(0.16 -0.16)\">\n     <defs>\n      <path d=\"M 33.59375 64.796875 \nC 33.59375 66.890625 33.5 67 31.703125 67 \nL 2 19.59375 \nL 2 17 \nL 27.796875 17 \nL 27.796875 7.1875 \nC 27.796875 3.59375 27.59375 2.59375 20.59375 2.59375 \nL 18.703125 2.59375 \nL 18.703125 0 \nC 21.90625 0.1875 27.296875 0.1875 30.703125 0.1875 \nC 34.09375 0.1875 39.5 0.1875 42.703125 0 \nL 42.703125 2.59375 \nL 40.796875 2.59375 \nC 33.796875 2.59375 33.59375 3.59375 33.59375 7.1875 \nL 33.59375 17 \nL 43.796875 17 \nL 43.796875 19.59375 \nL 33.59375 19.59375 \nz\nM 28.09375 58.171875 \nL 28.09375 19.59375 \nL 4 19.59375 \nz\n\" id=\"CMR17-52\"/>\n     </defs>\n     <use transform=\"scale(0.996264)\" xlink:href=\"#CMMI12-65\"/>\n     <use transform=\"translate(73.127885 0)scale(0.996264)\" xlink:href=\"#CMMI12-119\"/>\n     <use transform=\"translate(173.214809 0)scale(0.996264)\" xlink:href=\"#CMR17-61\"/>\n     <use transform=\"translate(272.603606 150.330335)scale(0.247871)\" xlink:href=\"#CMEX10-50\"/>\n     <use transform=\"translate(272.603606 106.704655)scale(0.247871)\" xlink:href=\"#CMEX10-54\"/>\n     <use transform=\"translate(272.603606 91.83228)scale(0.247871)\" xlink:href=\"#CMEX10-54\"/>\n     <use transform=\"translate(272.603606 76.959905)scale(0.247871)\" xlink:href=\"#CMEX10-54\"/>\n     <use transform=\"translate(272.603606 62.08753)scale(0.247871)\" xlink:href=\"#CMEX10-54\"/>\n     <use transform=\"translate(272.603606 47.215155)scale(0.247871)\" xlink:href=\"#CMEX10-54\"/>\n     <use transform=\"translate(272.603606 32.34278)scale(0.247871)\" xlink:href=\"#CMEX10-54\"/>\n     <use transform=\"translate(272.603606 17.470405)scale(0.247871)\" xlink:href=\"#CMEX10-54\"/>\n     <use transform=\"translate(272.603606 2.59803)scale(0.247871)\" xlink:href=\"#CMEX10-54\"/>\n     <use transform=\"translate(272.603606 -12.274345)scale(0.247871)\" xlink:href=\"#CMEX10-54\"/>\n     <use transform=\"translate(272.603606 -27.14672)scale(0.247871)\" xlink:href=\"#CMEX10-54\"/>\n     <use transform=\"translate(272.603606 -42.019095)scale(0.247871)\" xlink:href=\"#CMEX10-54\"/>\n     <use transform=\"translate(272.603606 -57.882915)scale(0.247871)\" xlink:href=\"#CMEX10-52\"/>\n     <use transform=\"translate(289.128354 62.266881)scale(0.996264)\" xlink:href=\"#CMR17-50\"/>\n     <use transform=\"translate(289.128354 -62.266121)scale(0.996264)\" xlink:href=\"#CMR17-52\"/>\n     <use transform=\"translate(334.818831 150.330335)scale(0.247871)\" xlink:href=\"#CMEX10-51\"/>\n     <use transform=\"translate(334.818831 106.704655)scale(0.247871)\" xlink:href=\"#CMEX10-55\"/>\n     <use transform=\"translate(334.818831 91.83228)scale(0.247871)\" xlink:href=\"#CMEX10-55\"/>\n     <use transform=\"translate(334.818831 76.959905)scale(0.247871)\" xlink:href=\"#CMEX10-55\"/>\n     <use transform=\"translate(334.818831 62.08753)scale(0.247871)\" xlink:href=\"#CMEX10-55\"/>\n     <use transform=\"translate(334.818831 47.215155)scale(0.247871)\" xlink:href=\"#CMEX10-55\"/>\n     <use transform=\"translate(334.818831 32.34278)scale(0.247871)\" xlink:href=\"#CMEX10-55\"/>\n     <use transform=\"translate(334.818831 17.470405)scale(0.247871)\" xlink:href=\"#CMEX10-55\"/>\n     <use transform=\"translate(334.818831 2.59803)scale(0.247871)\" xlink:href=\"#CMEX10-55\"/>\n     <use transform=\"translate(334.818831 -12.274345)scale(0.247871)\" xlink:href=\"#CMEX10-55\"/>\n     <use transform=\"translate(334.818831 -27.14672)scale(0.247871)\" xlink:href=\"#CMEX10-55\"/>\n     <use transform=\"translate(334.818831 -42.019095)scale(0.247871)\" xlink:href=\"#CMEX10-55\"/>\n     <use transform=\"translate(334.818831 -57.882915)scale(0.247871)\" xlink:href=\"#CMEX10-53\"/>\n    </g>\n   </g>\n  </g>\n </g>\n</svg>\n",
      "image/png": "[encoded data removed]"
     },
     "metadata": {
      "needs_background": "light"
     }
    }
   ],
   "source": [
    "import numpy as np\n",
    "import matplotlib.pyplot as plt\n",
    "from matplotlib import rcParams\n",
    "rcParams['text.usetex'] = True\n",
    "rcParams['text.latex.preamble'] = r'\\usepackage{amsmath}'\n",
    "\n",
    "\n",
    "lam=2\n",
    "A=np.array([[0, 1],[-2,3]])\n",
    "x=np.array([[1],[2]])\n",
    "Ax=A@x\n",
    "fig,ax=plt.subplots(1,1,figsize=(7, 4))\n",
    "ax.set_ylim(0,4)\n",
    "ax.set_xlim(0,4)\n",
    "\n",
    "ax.annotate(\"\", xy=(Ax[0],Ax[1]), xytext=(0, 0),arrowprops=dict(arrowstyle=\"->\",color='red'))\n",
    "ax.annotate(\"\", xy=(x[0],x[1]), xytext=(0, 0),arrowprops=dict(arrowstyle=\"->\"))\n",
    "ax.set_aspect('equal', adjustable='box')\n",
    "ax.set_xlabel('$x_1$',size=16)\n",
    "ax.set_ylabel('$x_2$',size=16,rotation=0)\n",
    "ax.set_xticks([0,1,2])\n",
    "ax.set_yticks([0,2,4])\n",
    "ax.set_xticklabels(['0',r'$w_1$',r'$\\lambda w_1$'],size=12)\n",
    "ax.set_yticklabels(['0',r'$w_2$',r'$\\lambda w_2$'],size=12)\n",
    "ax.text(s=r'$w$',x=0.3,y=1.25,size=16)\n",
    "ax.text(s=r'$Aw$',x=.7,y=2.4,color='red',size=16)\n",
    "ax.annotate(r\"$A= \\begin{bmatrix} 0 & 1 \\\\ -2 & 3  \\end{bmatrix}$\",(1.9, 3),size=16)\n",
    "ax.annotate(r\"$w= \\begin{bmatrix}  1 \\\\ 2  \\end{bmatrix},\\lambda=2$\",(1.95, 2),size=16)\n",
    "ax.annotate(r\"$Aw= \\begin{bmatrix}  2 \\\\ 4  \\end{bmatrix}$\",(1.7, 1),size=16,color='red')\n"
   ]
  },
  {
   "cell_type": "code",
   "execution_count": 81,
   "metadata": {},
   "outputs": [
    {
     "output_type": "execute_result",
     "data": {
      "text/plain": [
       "<Figure size 504x288 with 1 Axes>"
      ],
      "image/svg+xml": "<?xml version=\"1.0\" encoding=\"utf-8\" standalone=\"no\"?>\n<!DOCTYPE svg PUBLIC \"-//W3C//DTD SVG 1.1//EN\"\n  \"http://www.w3.org/Graphics/SVG/1.1/DTD/svg11.dtd\">\n<!-- Created with matplotlib (https://matplotlib.org/) -->\n<svg height=\"271.78693pt\" version=\"1.1\" viewBox=\"0 0 269.494767 271.78693\" width=\"269.494767pt\" xmlns=\"http://www.w3.org/2000/svg\" xmlns:xlink=\"http://www.w3.org/1999/xlink\">\n <metadata>\n  <rdf:RDF xmlns:cc=\"http://creativecommons.org/ns#\" xmlns:dc=\"http://purl.org/dc/elements/1.1/\" xmlns:rdf=\"http://www.w3.org/1999/02/22-rdf-syntax-ns#\">\n   <cc:Work>\n    <dc:type rdf:resource=\"http://purl.org/dc/dcmitype/StillImage\"/>\n    <dc:date>2021-01-01T15:27:18.081617</dc:date>\n    <dc:format>image/svg+xml</dc:format>\n    <dc:creator>\n     <cc:Agent>\n      <dc:title>Matplotlib v3.3.2, https://matplotlib.org/</dc:title>\n     </cc:Agent>\n    </dc:creator>\n   </cc:Work>\n  </rdf:RDF>\n </metadata>\n <defs>\n  <style type=\"text/css\">*{stroke-linecap:butt;stroke-linejoin:round;}</style>\n </defs>\n <g id=\"figure_1\">\n  <g id=\"patch_1\">\n   <path d=\"M 0 271.78693 \nL 269.494767 271.78693 \nL 269.494767 0 \nL 0 0 \nz\n\" style=\"fill:none;\"/>\n  </g>\n  <g id=\"axes_1\">\n   <g id=\"patch_2\">\n    <path d=\"M 44.854767 228.79109 \nL 262.294767 228.79109 \nL 262.294767 11.35109 \nL 44.854767 11.35109 \nz\n\" style=\"fill:#ffffff;\"/>\n   </g>\n   <g id=\"matplotlib.axis_1\">\n    <g id=\"xtick_1\">\n     <g id=\"line2d_1\">\n      <defs>\n       <path d=\"M 0 0 \nL 0 3.5 \n\" id=\"m6f92df4118\" style=\"stroke:#000000;stroke-width:0.8;\"/>\n      </defs>\n      <g>\n       <use style=\"stroke:#000000;stroke-width:0.8;\" x=\"44.854767\" xlink:href=\"#m6f92df4118\" y=\"228.79109\"/>\n      </g>\n     </g>\n     <g id=\"text_1\">\n      <!-- 0 -->\n      <g transform=\"translate(41.928272 244.09327)scale(0.12 -0.12)\">\n       <defs>\n        <path d=\"M 43.09375 32.390625 \nC 43.09375 38.109375 43 48.75 38.90625 56.984375 \nC 34.796875 64.890625 28.203125 67 23.5 67 \nC 16.703125 67 10.90625 62.984375 7.90625 56.578125 \nC 4.703125 49.859375 3.796875 42.9375 3.796875 32.390625 \nC 3.796875 25.171875 4.09375 16.34375 7.703125 8.609375 \nC 11.796875 0.09375 18.703125 -2 23.40625 -2 \nC 29.59375 -2 35.59375 1.296875 39 8.203125 \nC 42.5 15.4375 43.09375 23.359375 43.09375 32.390625 \nz\nM 23.40625 4.09375 \nC 15.796875 4.09375 13.5 12.828125 12.796875 15.734375 \nC 11.59375 20.75 11.40625 25.5625 11.40625 33.5 \nC 11.40625 39.71875 11.40625 46.75 13.296875 52.265625 \nC 15.59375 58.6875 19.59375 60.890625 23.40625 60.890625 \nC 30.796875 60.890625 33.203125 53.46875 34 50.859375 \nC 35.5 45.546875 35.5 39.3125 35.5 33.5 \nC 35.5 24.15625 35.5 4.09375 23.40625 4.09375 \nz\n\" id=\"CMSS17-48\"/>\n       </defs>\n       <use transform=\"scale(0.996264)\" xlink:href=\"#CMSS17-48\"/>\n      </g>\n     </g>\n    </g>\n    <g id=\"xtick_2\">\n     <g id=\"line2d_2\">\n      <g>\n       <use style=\"stroke:#000000;stroke-width:0.8;\" x=\"99.214767\" xlink:href=\"#m6f92df4118\" y=\"228.79109\"/>\n      </g>\n     </g>\n     <g id=\"text_2\">\n      <!-- $w_1$ -->\n      <g transform=\"translate(92.913758 244.09327)scale(0.12 -0.12)\">\n       <defs>\n        <path d=\"M 34.40625 6.078125 \nC 36.59375 0.09375 42.796875 -1 46.59375 -1 \nC 54.203125 -1 58.703125 5.578125 61.5 12.46875 \nC 63.796875 18.25 67.5 31.421875 67.5 37.3125 \nC 67.5 43.390625 64.40625 44 63.5 44 \nC 61.09375 44 58.90625 41.59375 58.90625 39.59375 \nC 58.90625 38.40625 59.59375 37.703125 60.09375 37.3125 \nC 61 36.40625 63.59375 33.71875 63.59375 28.53125 \nC 63.59375 25.140625 60.796875 15.75 58.703125 11.0625 \nC 55.90625 4.984375 52.203125 1 47 1 \nC 41.40625 1 39.59375 5.1875 39.59375 9.765625 \nC 39.59375 12.65625 40.5 16.15625 40.90625 17.84375 \nL 45.09375 34.609375 \nC 45.59375 36.609375 46.5 40.09375 46.5 40.484375 \nC 46.5 41.984375 45.296875 43 43.796875 43 \nC 40.90625 43 40.203125 40.484375 39.59375 38.09375 \nC 38.59375 34.203125 34.40625 17.34375 34 15.15625 \nC 33.59375 13.453125 33.59375 12.359375 33.59375 10.171875 \nC 33.59375 7.78125 30.40625 3.984375 30.296875 3.78125 \nC 29.203125 2.6875 27.59375 1 24.5 1 \nC 16.59375 1 16.59375 8.46875 16.59375 10.171875 \nC 16.59375 13.359375 17.296875 17.75 21.796875 29.625 \nC 23 32.71875 23.5 34.015625 23.5 36.015625 \nC 23.5 40.203125 20.5 44 15.59375 44 \nC 6.40625 44 2.703125 29.53125 2.703125 28.71875 \nC 2.703125 28.328125 3.09375 27.828125 3.796875 27.828125 \nC 4.703125 27.828125 4.796875 28.234375 5.203125 29.625 \nC 7.703125 38.40625 11.59375 41.984375 15.296875 41.984375 \nC 16.296875 41.984375 17.90625 41.890625 17.90625 38.703125 \nC 17.90625 38.203125 17.90625 36.109375 16.203125 31.71875 \nC 11.5 19.25 10.5 15.15625 10.5 11.375 \nC 10.5 0.890625 19.09375 -1 24.203125 -1 \nC 25.90625 -1 30.40625 -1 34.40625 6.078125 \nz\n\" id=\"CMMI12-119\"/>\n        <path d=\"M 26.59375 63.796875 \nC 26.59375 65.890625 26.5 66 25.09375 66 \nC 21.203125 61.359375 15.296875 59.890625 9.703125 59.6875 \nC 9.40625 59.6875 8.90625 59.6875 8.796875 59.5 \nC 8.703125 59.296875 8.703125 59.09375 8.703125 57 \nC 11.796875 57 17 57.59375 21 59.984375 \nL 21 7.296875 \nC 21 3.796875 20.796875 2.59375 12.203125 2.59375 \nL 9.203125 2.59375 \nL 9.203125 0 \nC 14 0.09375 19 0.1875 23.796875 0.1875 \nC 28.59375 0.1875 33.59375 0.09375 38.40625 0 \nL 38.40625 2.59375 \nL 35.40625 2.59375 \nC 26.796875 2.59375 26.59375 3.6875 26.59375 7.296875 \nz\n\" id=\"CMR17-49\"/>\n       </defs>\n       <use transform=\"scale(0.996264)\" xlink:href=\"#CMMI12-119\"/>\n       <use transform=\"translate(69.73199 -14.943915)scale(0.697382)\" xlink:href=\"#CMR17-49\"/>\n      </g>\n     </g>\n    </g>\n    <g id=\"xtick_3\">\n     <g id=\"line2d_3\">\n      <g>\n       <use style=\"stroke:#000000;stroke-width:0.8;\" x=\"153.574767\" xlink:href=\"#m6f92df4118\" y=\"228.79109\"/>\n      </g>\n     </g>\n     <g id=\"text_3\">\n      <!-- $\\lambda w_1$ -->\n      <g transform=\"translate(143.859513 244.09327)scale(0.12 -0.12)\">\n       <defs>\n        <path d=\"M 30.90625 61.921875 \nC 28.40625 69 20.5 69 19.203125 69 \nC 18.59375 69 17.5 69 17.5 67.984375 \nC 17.5 67.1875 18.09375 67.09375 18.59375 66.984375 \nC 20.09375 66.796875 21.296875 66.59375 22.90625 63.71875 \nC 23.90625 61.828125 34.203125 32.109375 34.203125 31.90625 \nC 34.203125 31.8125 34.09375 31.703125 33.296875 30.90625 \nL 7.296875 4.765625 \nC 6.09375 3.578125 5.296875 2.78125 5.296875 1.484375 \nC 5.296875 0.09375 6.5 -1.109375 8.09375 -1.109375 \nC 8.5 -1.109375 9.59375 -0.90625 10.203125 -0.3125 \nC 11.796875 1.1875 26.09375 18.59375 35.203125 29.328125 \nC 37.796875 21.5625 41 12.421875 44.09375 4.078125 \nC 44.59375 2.578125 45.09375 1.1875 46.5 -0.109375 \nC 47.5 -1 47.703125 -1 50.5 -1 \nL 52.40625 -1 \nC 52.796875 -1 53.5 -1 53.5 -0.203125 \nC 53.5 0.1875 53.40625 0.296875 53 0.6875 \nC 52.09375 1.78125 51.40625 3.578125 51 4.765625 \nz\n\" id=\"CMMI12-21\"/>\n       </defs>\n       <use transform=\"scale(0.996264)\" xlink:href=\"#CMMI12-21\"/>\n       <use transform=\"translate(56.904072 0)scale(0.996264)\" xlink:href=\"#CMMI12-119\"/>\n       <use transform=\"translate(126.636061 -14.943915)scale(0.697382)\" xlink:href=\"#CMR17-49\"/>\n      </g>\n     </g>\n    </g>\n    <g id=\"text_4\">\n     <!-- $x_1$ -->\n     <g transform=\"translate(146.350508 261.487454)scale(0.16 -0.16)\">\n      <defs>\n       <path d=\"M 47.40625 41 \nC 44.203125 40.390625 43 37.984375 43 36.09375 \nC 43 33.6875 44.90625 32.890625 46.296875 32.890625 \nC 49.296875 32.890625 51.40625 35.484375 51.40625 38.1875 \nC 51.40625 42.09375 46.59375 44 42.40625 44 \nC 36.296875 44 32.90625 38.296875 32 36.390625 \nC 29.703125 43.59375 23.5 44 21.703125 44 \nC 11.5 44 6.09375 31.140625 6.09375 28.890625 \nC 6.09375 28.484375 6.5 27.96875 7.203125 27.96875 \nC 8 27.96875 8.203125 28.578125 8.40625 28.984375 \nC 11.796875 40.1875 18.5 41.984375 21.40625 41.984375 \nC 25.90625 41.984375 26.796875 38.09375 26.796875 35.6875 \nC 26.796875 33.484375 26.203125 31.140625 25 26.21875 \nL 21.59375 12.15625 \nC 20.09375 6.09375 17.203125 1 11.90625 1 \nC 11.40625 1 8.90625 1 6.796875 1.96875 \nC 10.40625 2.59375 11.203125 5.59375 11.203125 6.796875 \nC 11.203125 8.796875 9.703125 10 7.796875 10 \nC 5.40625 10 2.796875 7.890625 2.796875 4.6875 \nC 2.796875 0.890625 7.5 -1 11.796875 -1 \nC 16.59375 -1 20 2.390625 22.09375 6.484375 \nC 23.703125 1 28.703125 -1 32.40625 -1 \nC 42.59375 -1 48 11.734375 48 14 \nC 48 14.515625 47.59375 14.921875 47 14.921875 \nC 46.09375 14.921875 46 14.40625 45.703125 13.59375 \nC 43 4.6875 37.203125 1 32.703125 1 \nC 29.203125 1 27.296875 3.1875 27.296875 7.296875 \nC 27.296875 9.484375 27.703125 11.125 29.296875 17.90625 \nL 32.796875 31.859375 \nC 34.296875 37.890625 37.703125 41.984375 42.296875 41.984375 \nC 42.5 41.984375 45.296875 41.984375 47.40625 41 \nz\n\" id=\"CMMI12-120\"/>\n      </defs>\n      <use transform=\"scale(0.996264)\" xlink:href=\"#CMMI12-120\"/>\n      <use transform=\"translate(55.43406 -14.943915)scale(0.697382)\" xlink:href=\"#CMR17-49\"/>\n     </g>\n    </g>\n   </g>\n   <g id=\"matplotlib.axis_2\">\n    <g id=\"ytick_1\">\n     <g id=\"line2d_4\">\n      <defs>\n       <path d=\"M 0 0 \nL -3.5 0 \n\" id=\"m2a95ba80a5\" style=\"stroke:#000000;stroke-width:0.8;\"/>\n      </defs>\n      <g>\n       <use style=\"stroke:#000000;stroke-width:0.8;\" x=\"44.854767\" xlink:href=\"#m2a95ba80a5\" y=\"228.79109\"/>\n      </g>\n     </g>\n     <g id=\"text_5\">\n      <!-- 0 -->\n      <g transform=\"translate(32.001777 232.94218)scale(0.12 -0.12)\">\n       <use transform=\"scale(0.996264)\" xlink:href=\"#CMSS17-48\"/>\n      </g>\n     </g>\n    </g>\n    <g id=\"ytick_2\">\n     <g id=\"line2d_5\">\n      <g>\n       <use style=\"stroke:#000000;stroke-width:0.8;\" x=\"44.854767\" xlink:href=\"#m2a95ba80a5\" y=\"120.07109\"/>\n      </g>\n     </g>\n     <g id=\"text_6\">\n      <!-- $w_2$ -->\n      <g transform=\"translate(25.252748 124.22218)scale(0.12 -0.12)\">\n       <defs>\n        <path d=\"M 41.703125 15.46875 \nL 39.90625 15.46875 \nC 38.90625 8.390625 38.09375 7.1875 37.703125 6.59375 \nC 37.203125 5.796875 30 5.796875 28.59375 5.796875 \nL 9.40625 5.796875 \nC 13 9.6875 20 16.765625 28.5 24.9375 \nC 34.59375 30.71875 41.703125 37.5 41.703125 47.390625 \nC 41.703125 59.1875 32.296875 66 21.796875 66 \nC 10.796875 66 4.09375 56.296875 4.09375 47.296875 \nC 4.09375 43.390625 7 42.890625 8.203125 42.890625 \nC 9.203125 42.890625 12.203125 43.484375 12.203125 46.984375 \nC 12.203125 50.09375 9.59375 51 8.203125 51 \nC 7.59375 51 7 50.890625 6.59375 50.6875 \nC 8.5 59.1875 14.296875 63.390625 20.40625 63.390625 \nC 29.09375 63.390625 34.796875 56.5 34.796875 47.390625 \nC 34.796875 38.703125 29.703125 31.21875 24 24.734375 \nL 4.09375 2.296875 \nL 4.09375 0 \nL 39.296875 0 \nz\n\" id=\"CMR17-50\"/>\n       </defs>\n       <use transform=\"scale(0.996264)\" xlink:href=\"#CMMI12-119\"/>\n       <use transform=\"translate(69.73199 -14.943915)scale(0.697382)\" xlink:href=\"#CMR17-50\"/>\n      </g>\n     </g>\n    </g>\n    <g id=\"ytick_3\">\n     <g id=\"line2d_6\">\n      <g>\n       <use style=\"stroke:#000000;stroke-width:0.8;\" x=\"44.854767\" xlink:href=\"#m2a95ba80a5\" y=\"11.35109\"/>\n      </g>\n     </g>\n     <g id=\"text_7\">\n      <!-- $\\lambda w_2$ -->\n      <g transform=\"translate(18.424259 15.50218)scale(0.12 -0.12)\">\n       <use transform=\"scale(0.996264)\" xlink:href=\"#CMMI12-21\"/>\n       <use transform=\"translate(56.904072 0)scale(0.996264)\" xlink:href=\"#CMMI12-119\"/>\n       <use transform=\"translate(126.636061 -14.943915)scale(0.697382)\" xlink:href=\"#CMR17-50\"/>\n      </g>\n     </g>\n    </g>\n    <g id=\"text_8\">\n     <!-- $x_2$ -->\n     <g transform=\"translate(7.2 116.971614)scale(0.16 -0.16)\">\n      <use transform=\"scale(0.996264)\" xlink:href=\"#CMMI12-120\"/>\n      <use transform=\"translate(55.43406 -14.943915)scale(0.697382)\" xlink:href=\"#CMR17-50\"/>\n     </g>\n    </g>\n   </g>\n   <g id=\"patch_3\">\n    <path d=\"M 44.854767 228.79109 \nL 44.854767 11.35109 \n\" style=\"fill:none;stroke:#000000;stroke-linecap:square;stroke-linejoin:miter;stroke-width:0.8;\"/>\n   </g>\n   <g id=\"patch_4\">\n    <path d=\"M 262.294767 228.79109 \nL 262.294767 11.35109 \n\" style=\"fill:none;stroke:#000000;stroke-linecap:square;stroke-linejoin:miter;stroke-width:0.8;\"/>\n   </g>\n   <g id=\"patch_5\">\n    <path d=\"M 44.854767 228.79109 \nL 262.294767 228.79109 \n\" style=\"fill:none;stroke:#000000;stroke-linecap:square;stroke-linejoin:miter;stroke-width:0.8;\"/>\n   </g>\n   <g id=\"patch_6\">\n    <path d=\"M 44.854767 11.35109 \nL 262.294767 11.35109 \n\" style=\"fill:none;stroke:#000000;stroke-linecap:square;stroke-linejoin:miter;stroke-width:0.8;\"/>\n   </g>\n   <g id=\"patch_7\">\n    <path d=\"M 45.748933 227.002757 \nQ 99.215154 120.070317 152.181374 14.137877 \n\" style=\"fill:none;stroke:#ff0000;stroke-linecap:round;\"/>\n    <path d=\"M 148.603665 16.821158 \nL 152.181374 14.137877 \nL 152.181374 18.610013 \n\" style=\"fill:none;stroke:#ff0000;stroke-linecap:round;\"/>\n   </g>\n   <g id=\"patch_8\">\n    <path d=\"M 45.748933 227.002757 \nQ 72.033963 174.432698 97.818993 122.862639 \n\" style=\"fill:none;stroke:#000000;stroke-linecap:round;\"/>\n    <path d=\"M 94.241284 125.545921 \nL 97.818993 122.862639 \nL 97.818993 127.334775 \n\" style=\"fill:none;stroke:#000000;stroke-linecap:round;\"/>\n   </g>\n   <g id=\"text_9\">\n    <!-- $w$ -->\n    <g transform=\"translate(61.162767 160.84109)scale(0.16 -0.16)\">\n     <use transform=\"scale(0.996264)\" xlink:href=\"#CMMI12-119\"/>\n    </g>\n   </g>\n   <g id=\"text_10\">\n    <!-- $Aw$ -->\n    <g style=\"fill:#ff0000;\" transform=\"translate(82.906767 98.32709)scale(0.16 -0.16)\">\n     <defs>\n      <path d=\"M 17 11.25 \nC 13.5 5.234375 10.09375 3.203125 5.296875 2.890625 \nC 4.203125 2.796875 3.40625 2.796875 3.40625 1 \nC 3.40625 0.390625 3.90625 0 4.59375 0 \nC 6.40625 0 10.90625 0.1875 12.703125 0.1875 \nC 15.59375 0.1875 18.796875 0 21.59375 0 \nC 22.203125 0 23.40625 0 23.40625 1.890625 \nC 23.40625 2.796875 22.59375 2.890625 22 2.890625 \nC 19.703125 3.09375 17.796875 3.90625 17.796875 6.359375 \nC 17.796875 7.78125 18.40625 8.90625 19.703125 11.15625 \nL 27.296875 24 \nL 52.796875 24 \nC 52.90625 23.078125 52.90625 22.265625 53 21.34375 \nC 53.296875 18.6875 54.5 8.09375 54.5 6.15625 \nC 54.5 3.09375 49.40625 2.890625 47.796875 2.890625 \nC 46.703125 2.890625 45.59375 2.890625 45.59375 1.09375 \nC 45.59375 0 46.5 0 47.09375 0 \nC 48.796875 0 50.796875 0.1875 52.5 0.1875 \nL 58.203125 0.1875 \nC 64.296875 0.1875 68.703125 0 68.796875 0 \nC 69.5 0 70.59375 0 70.59375 1.890625 \nC 70.59375 2.890625 69.703125 2.890625 68.203125 2.890625 \nC 62.703125 2.890625 62.59375 3.8125 62.296875 6.875 \nL 56.203125 68.796875 \nC 56 70.796875 55.59375 71 54.5 71 \nC 53.5 71 52.90625 70.796875 52 69.296875 \nz\nM 29 26.890625 \nL 49.09375 59.859375 \nL 52.5 26.890625 \nz\n\" id=\"CMMI12-65\"/>\n     </defs>\n     <use transform=\"scale(0.996264)\" xlink:href=\"#CMMI12-65\"/>\n     <use transform=\"translate(73.127885 0)scale(0.996264)\" xlink:href=\"#CMMI12-119\"/>\n    </g>\n   </g>\n   <g id=\"text_11\">\n    <!-- $A= \\begin{bmatrix} 0 &amp; 1 \\\\ -2 &amp; 3  \\end{bmatrix}$ -->\n    <g transform=\"translate(148.138767 65.71109)scale(0.16 -0.16)\">\n     <defs>\n      <path d=\"M 64.296875 32 \nC 65.796875 32 67.296875 32 67.296875 33.6875 \nC 67.296875 35.5 65.59375 35.5 63.90625 35.5 \nL 8 35.5 \nC 6.296875 35.5 4.59375 35.5 4.59375 33.6875 \nC 4.59375 32 6.09375 32 7.59375 32 \nz\nM 63.90625 14.484375 \nC 65.59375 14.484375 67.296875 14.484375 67.296875 16.296875 \nC 67.296875 18 65.796875 18 64.296875 18 \nL 7.59375 18 \nC 6.09375 18 4.59375 18 4.59375 16.296875 \nC 4.59375 14.484375 6.296875 14.484375 8 14.484375 \nz\n\" id=\"CMR17-61\"/>\n      <path d=\"M 32.59375 -176 \nL 39.5 -176 \nL 39.5 -3 \nL 65.90625 -3 \nL 65.90625 3.890625 \nL 32.59375 3.890625 \nz\n\" id=\"CMEX10-50\"/>\n      <path d=\"M 32.59375 -60.109375 \nL 39.5 -60.109375 \nL 39.5 0 \nL 32.59375 0 \nz\n\" id=\"CMEX10-54\"/>\n      <path d=\"M 32.59375 -175.90625 \nL 65.90625 -175.90625 \nL 65.90625 -169 \nL 39.5 -169 \nL 39.5 4 \nL 32.59375 4 \nz\n\" id=\"CMEX10-52\"/>\n      <path d=\"M 42 31.84375 \nC 42 37.96875 41.90625 48.421875 37.703125 56.453125 \nC 34 63.484375 28.09375 66 22.90625 66 \nC 18.09375 66 12 63.78125 8.203125 56.5625 \nC 4.203125 49.015625 3.796875 39.671875 3.796875 31.84375 \nC 3.796875 26.109375 3.90625 17.375 7 9.734375 \nC 11.296875 -0.609375 19 -2 22.90625 -2 \nC 27.5 -2 34.5 -0.109375 38.59375 9.4375 \nC 41.59375 16.375 42 24.5 42 31.84375 \nz\nM 22.90625 -0.40625 \nC 16.5 -0.40625 12.703125 5.125 11.296875 12.75 \nC 10.203125 18.6875 10.203125 27.328125 10.203125 32.953125 \nC 10.203125 40.6875 10.203125 47.109375 11.5 53.234375 \nC 13.40625 61.78125 19 64.390625 22.90625 64.390625 \nC 27 64.390625 32.296875 61.671875 34.203125 53.4375 \nC 35.5 47.71875 35.59375 40.984375 35.59375 32.953125 \nC 35.59375 26.421875 35.59375 18.375 34.40625 12.453125 \nC 32.296875 1.5 26.40625 -0.40625 22.90625 -0.40625 \nz\n\" id=\"CMR17-48\"/>\n      <path d=\"M 65.90625 23 \nC 67.59375 23 69.40625 23 69.40625 25 \nC 69.40625 27 67.59375 27 65.90625 27 \nL 11.796875 27 \nC 10.09375 27 8.296875 27 8.296875 25 \nC 8.296875 23 10.09375 23 11.796875 23 \nz\n\" id=\"CMSY10-0\"/>\n      <path d=\"M 22.09375 34 \nC 31 34 34.90625 26.140625 34.90625 17.09375 \nC 34.90625 5.03125 28.5 0.390625 22.703125 0.390625 \nC 17.40625 0.390625 8.796875 3.015625 6.09375 10.796875 \nC 6.59375 10.59375 7.09375 10.59375 7.59375 10.59375 \nC 10 10.59375 11.796875 12.1875 11.796875 14.796875 \nC 11.796875 17.6875 9.59375 19 7.59375 19 \nC 5.90625 19 3.296875 18.1875 3.296875 14.484375 \nC 3.296875 5.234375 12.296875 -2 22.90625 -2 \nC 34 -2 42.5 6.75 42.5 16.984375 \nC 42.5 26.84375 34.5 34 25 35.09375 \nC 32.59375 36.671875 39.90625 43.375 39.90625 52.390625 \nC 39.90625 60.25 32 66 23 66 \nC 13.90625 66 5.90625 60.34375 5.90625 52.296875 \nC 5.90625 48.796875 8.5 48.1875 9.796875 48.1875 \nC 11.90625 48.1875 13.703125 49.484375 13.703125 52.09375 \nC 13.703125 54.6875 11.90625 56 9.796875 56 \nC 9.40625 56 8.90625 56 8.5 55.796875 \nC 11.40625 62.484375 19.296875 63.6875 22.796875 63.6875 \nC 26.296875 63.6875 32.90625 61.96875 32.90625 52.296875 \nC 32.90625 49.484375 32.5 44.546875 29.09375 40.21875 \nC 26.09375 36.390625 22.703125 36.1875 19.40625 35.890625 \nC 18.90625 35.890625 16.59375 35.6875 16.203125 35.6875 \nC 15.5 35.59375 15.09375 35.5 15.09375 34.796875 \nC 15.09375 34.09375 15.203125 34 17.203125 34 \nz\n\" id=\"CMR17-51\"/>\n      <path d=\"M 27.09375 -176 \nL 34 -176 \nL 34 3.890625 \nL 0.703125 3.890625 \nL 0.703125 -3 \nL 27.09375 -3 \nz\n\" id=\"CMEX10-51\"/>\n      <path d=\"M 27.09375 -60.109375 \nL 34 -60.109375 \nL 34 0 \nL 27.09375 0 \nz\n\" id=\"CMEX10-55\"/>\n      <path d=\"M 27.09375 -169 \nL 0.703125 -169 \nL 0.703125 -175.90625 \nL 34 -175.90625 \nL 34 4 \nL 27.09375 4 \nz\n\" id=\"CMEX10-53\"/>\n     </defs>\n     <use transform=\"scale(0.996264)\" xlink:href=\"#CMMI12-65\"/>\n     <use transform=\"translate(100.801894 0)scale(0.996264)\" xlink:href=\"#CMR17-61\"/>\n     <use transform=\"translate(200.190691 150.330335)scale(0.247871)\" xlink:href=\"#CMEX10-50\"/>\n     <use transform=\"translate(200.190691 106.704655)scale(0.247871)\" xlink:href=\"#CMEX10-54\"/>\n     <use transform=\"translate(200.190691 91.83228)scale(0.247871)\" xlink:href=\"#CMEX10-54\"/>\n     <use transform=\"translate(200.190691 76.959905)scale(0.247871)\" xlink:href=\"#CMEX10-54\"/>\n     <use transform=\"translate(200.190691 62.08753)scale(0.247871)\" xlink:href=\"#CMEX10-54\"/>\n     <use transform=\"translate(200.190691 47.215155)scale(0.247871)\" xlink:href=\"#CMEX10-54\"/>\n     <use transform=\"translate(200.190691 32.34278)scale(0.247871)\" xlink:href=\"#CMEX10-54\"/>\n     <use transform=\"translate(200.190691 17.470405)scale(0.247871)\" xlink:href=\"#CMEX10-54\"/>\n     <use transform=\"translate(200.190691 2.59803)scale(0.247871)\" xlink:href=\"#CMEX10-54\"/>\n     <use transform=\"translate(200.190691 -12.274345)scale(0.247871)\" xlink:href=\"#CMEX10-54\"/>\n     <use transform=\"translate(200.190691 -27.14672)scale(0.247871)\" xlink:href=\"#CMEX10-54\"/>\n     <use transform=\"translate(200.190691 -42.019095)scale(0.247871)\" xlink:href=\"#CMEX10-54\"/>\n     <use transform=\"translate(200.190691 -57.882915)scale(0.247871)\" xlink:href=\"#CMEX10-52\"/>\n     <use transform=\"translate(255.459173 62.266881)scale(0.996264)\" xlink:href=\"#CMR17-48\"/>\n     <use transform=\"translate(349.856024 62.266881)scale(0.996264)\" xlink:href=\"#CMR17-49\"/>\n     <use transform=\"translate(216.715439 -62.266121)scale(0.996264)\" xlink:href=\"#CMSY10-0\"/>\n     <use transform=\"translate(294.202907 -62.266121)scale(0.996264)\" xlink:href=\"#CMR17-50\"/>\n     <use transform=\"translate(349.856024 -62.266121)scale(0.996264)\" xlink:href=\"#CMR17-51\"/>\n     <use transform=\"translate(395.546501 150.330335)scale(0.247871)\" xlink:href=\"#CMEX10-51\"/>\n     <use transform=\"translate(395.546501 106.704655)scale(0.247871)\" xlink:href=\"#CMEX10-55\"/>\n     <use transform=\"translate(395.546501 91.83228)scale(0.247871)\" xlink:href=\"#CMEX10-55\"/>\n     <use transform=\"translate(395.546501 76.959905)scale(0.247871)\" xlink:href=\"#CMEX10-55\"/>\n     <use transform=\"translate(395.546501 62.08753)scale(0.247871)\" xlink:href=\"#CMEX10-55\"/>\n     <use transform=\"translate(395.546501 47.215155)scale(0.247871)\" xlink:href=\"#CMEX10-55\"/>\n     <use transform=\"translate(395.546501 32.34278)scale(0.247871)\" xlink:href=\"#CMEX10-55\"/>\n     <use transform=\"translate(395.546501 17.470405)scale(0.247871)\" xlink:href=\"#CMEX10-55\"/>\n     <use transform=\"translate(395.546501 2.59803)scale(0.247871)\" xlink:href=\"#CMEX10-55\"/>\n     <use transform=\"translate(395.546501 -12.274345)scale(0.247871)\" xlink:href=\"#CMEX10-55\"/>\n     <use transform=\"translate(395.546501 -27.14672)scale(0.247871)\" xlink:href=\"#CMEX10-55\"/>\n     <use transform=\"translate(395.546501 -42.019095)scale(0.247871)\" xlink:href=\"#CMEX10-55\"/>\n     <use transform=\"translate(395.546501 -57.882915)scale(0.247871)\" xlink:href=\"#CMEX10-53\"/>\n    </g>\n   </g>\n   <g id=\"text_12\">\n    <!-- $w= \\begin{bmatrix}  1 \\\\ 2  \\end{bmatrix},\\lambda=2$ -->\n    <g transform=\"translate(150.856767 120.07109)scale(0.16 -0.16)\">\n     <defs>\n      <path d=\"M 19.5 -0.40625 \nC 19.5 5.390625 17.59375 9.6875 13.5 9.6875 \nC 10.296875 9.6875 8.703125 7.09375 8.703125 4.890625 \nC 8.703125 2.6875 10.203125 0 13.59375 0 \nC 14.90625 0 16 0.390625 16.90625 1.296875 \nC 17.09375 1.5 17.203125 1.5 17.296875 1.5 \nC 17.5 1.5 17.5 0.09375 17.5 -0.40625 \nC 17.5 -3.640625 16.90625 -10.03125 11.09375 -16.421875 \nC 10 -17.609375 10 -17.8125 10 -18 \nC 10 -18.5 10.5 -19 11 -19 \nC 11.796875 -19 19.5 -11.703125 19.5 -0.40625 \nz\n\" id=\"CMMI12-59\"/>\n     </defs>\n     <use transform=\"scale(0.996264)\" xlink:href=\"#CMMI12-119\"/>\n     <use transform=\"translate(100.086924 0)scale(0.996264)\" xlink:href=\"#CMR17-61\"/>\n     <use transform=\"translate(199.475721 150.330335)scale(0.247871)\" xlink:href=\"#CMEX10-50\"/>\n     <use transform=\"translate(199.475721 106.704655)scale(0.247871)\" xlink:href=\"#CMEX10-54\"/>\n     <use transform=\"translate(199.475721 91.83228)scale(0.247871)\" xlink:href=\"#CMEX10-54\"/>\n     <use transform=\"translate(199.475721 76.959905)scale(0.247871)\" xlink:href=\"#CMEX10-54\"/>\n     <use transform=\"translate(199.475721 62.08753)scale(0.247871)\" xlink:href=\"#CMEX10-54\"/>\n     <use transform=\"translate(199.475721 47.215155)scale(0.247871)\" xlink:href=\"#CMEX10-54\"/>\n     <use transform=\"translate(199.475721 32.34278)scale(0.247871)\" xlink:href=\"#CMEX10-54\"/>\n     <use transform=\"translate(199.475721 17.470405)scale(0.247871)\" xlink:href=\"#CMEX10-54\"/>\n     <use transform=\"translate(199.475721 2.59803)scale(0.247871)\" xlink:href=\"#CMEX10-54\"/>\n     <use transform=\"translate(199.475721 -12.274345)scale(0.247871)\" xlink:href=\"#CMEX10-54\"/>\n     <use transform=\"translate(199.475721 -27.14672)scale(0.247871)\" xlink:href=\"#CMEX10-54\"/>\n     <use transform=\"translate(199.475721 -42.019095)scale(0.247871)\" xlink:href=\"#CMEX10-54\"/>\n     <use transform=\"translate(199.475721 -57.882915)scale(0.247871)\" xlink:href=\"#CMEX10-52\"/>\n     <use transform=\"translate(216.000469 62.266881)scale(0.996264)\" xlink:href=\"#CMR17-49\"/>\n     <use transform=\"translate(216.000469 -62.266121)scale(0.996264)\" xlink:href=\"#CMR17-50\"/>\n     <use transform=\"translate(261.690946 150.330335)scale(0.247871)\" xlink:href=\"#CMEX10-51\"/>\n     <use transform=\"translate(261.690946 106.704655)scale(0.247871)\" xlink:href=\"#CMEX10-55\"/>\n     <use transform=\"translate(261.690946 91.83228)scale(0.247871)\" xlink:href=\"#CMEX10-55\"/>\n     <use transform=\"translate(261.690946 76.959905)scale(0.247871)\" xlink:href=\"#CMEX10-55\"/>\n     <use transform=\"translate(261.690946 62.08753)scale(0.247871)\" xlink:href=\"#CMEX10-55\"/>\n     <use transform=\"translate(261.690946 47.215155)scale(0.247871)\" xlink:href=\"#CMEX10-55\"/>\n     <use transform=\"translate(261.690946 32.34278)scale(0.247871)\" xlink:href=\"#CMEX10-55\"/>\n     <use transform=\"translate(261.690946 17.470405)scale(0.247871)\" xlink:href=\"#CMEX10-55\"/>\n     <use transform=\"translate(261.690946 2.59803)scale(0.247871)\" xlink:href=\"#CMEX10-55\"/>\n     <use transform=\"translate(261.690946 -12.274345)scale(0.247871)\" xlink:href=\"#CMEX10-55\"/>\n     <use transform=\"translate(261.690946 -27.14672)scale(0.247871)\" xlink:href=\"#CMEX10-55\"/>\n     <use transform=\"translate(261.690946 -42.019095)scale(0.247871)\" xlink:href=\"#CMEX10-55\"/>\n     <use transform=\"translate(261.690946 -57.882915)scale(0.247871)\" xlink:href=\"#CMEX10-53\"/>\n     <use transform=\"translate(294.820099 0)scale(0.996264)\" xlink:href=\"#CMMI12-59\"/>\n     <use transform=\"translate(338.521681 0)scale(0.996264)\" xlink:href=\"#CMMI12-21\"/>\n     <use transform=\"translate(423.099762 0)scale(0.996264)\" xlink:href=\"#CMR17-61\"/>\n     <use transform=\"translate(522.488559 0)scale(0.996264)\" xlink:href=\"#CMR17-50\"/>\n    </g>\n   </g>\n   <g id=\"text_13\">\n    <!-- $Aw= \\begin{bmatrix}  2 \\\\ 4  \\end{bmatrix}$ -->\n    <g style=\"fill:#ff0000;\" transform=\"translate(137.266767 174.43109)scale(0.16 -0.16)\">\n     <defs>\n      <path d=\"M 33.59375 64.796875 \nC 33.59375 66.890625 33.5 67 31.703125 67 \nL 2 19.59375 \nL 2 17 \nL 27.796875 17 \nL 27.796875 7.1875 \nC 27.796875 3.59375 27.59375 2.59375 20.59375 2.59375 \nL 18.703125 2.59375 \nL 18.703125 0 \nC 21.90625 0.1875 27.296875 0.1875 30.703125 0.1875 \nC 34.09375 0.1875 39.5 0.1875 42.703125 0 \nL 42.703125 2.59375 \nL 40.796875 2.59375 \nC 33.796875 2.59375 33.59375 3.59375 33.59375 7.1875 \nL 33.59375 17 \nL 43.796875 17 \nL 43.796875 19.59375 \nL 33.59375 19.59375 \nz\nM 28.09375 58.171875 \nL 28.09375 19.59375 \nL 4 19.59375 \nz\n\" id=\"CMR17-52\"/>\n     </defs>\n     <use transform=\"scale(0.996264)\" xlink:href=\"#CMMI12-65\"/>\n     <use transform=\"translate(73.127885 0)scale(0.996264)\" xlink:href=\"#CMMI12-119\"/>\n     <use transform=\"translate(173.214809 0)scale(0.996264)\" xlink:href=\"#CMR17-61\"/>\n     <use transform=\"translate(272.603606 150.330335)scale(0.247871)\" xlink:href=\"#CMEX10-50\"/>\n     <use transform=\"translate(272.603606 106.704655)scale(0.247871)\" xlink:href=\"#CMEX10-54\"/>\n     <use transform=\"translate(272.603606 91.83228)scale(0.247871)\" xlink:href=\"#CMEX10-54\"/>\n     <use transform=\"translate(272.603606 76.959905)scale(0.247871)\" xlink:href=\"#CMEX10-54\"/>\n     <use transform=\"translate(272.603606 62.08753)scale(0.247871)\" xlink:href=\"#CMEX10-54\"/>\n     <use transform=\"translate(272.603606 47.215155)scale(0.247871)\" xlink:href=\"#CMEX10-54\"/>\n     <use transform=\"translate(272.603606 32.34278)scale(0.247871)\" xlink:href=\"#CMEX10-54\"/>\n     <use transform=\"translate(272.603606 17.470405)scale(0.247871)\" xlink:href=\"#CMEX10-54\"/>\n     <use transform=\"translate(272.603606 2.59803)scale(0.247871)\" xlink:href=\"#CMEX10-54\"/>\n     <use transform=\"translate(272.603606 -12.274345)scale(0.247871)\" xlink:href=\"#CMEX10-54\"/>\n     <use transform=\"translate(272.603606 -27.14672)scale(0.247871)\" xlink:href=\"#CMEX10-54\"/>\n     <use transform=\"translate(272.603606 -42.019095)scale(0.247871)\" xlink:href=\"#CMEX10-54\"/>\n     <use transform=\"translate(272.603606 -57.882915)scale(0.247871)\" xlink:href=\"#CMEX10-52\"/>\n     <use transform=\"translate(289.128354 62.266881)scale(0.996264)\" xlink:href=\"#CMR17-50\"/>\n     <use transform=\"translate(289.128354 -62.266121)scale(0.996264)\" xlink:href=\"#CMR17-52\"/>\n     <use transform=\"translate(334.818831 150.330335)scale(0.247871)\" xlink:href=\"#CMEX10-51\"/>\n     <use transform=\"translate(334.818831 106.704655)scale(0.247871)\" xlink:href=\"#CMEX10-55\"/>\n     <use transform=\"translate(334.818831 91.83228)scale(0.247871)\" xlink:href=\"#CMEX10-55\"/>\n     <use transform=\"translate(334.818831 76.959905)scale(0.247871)\" xlink:href=\"#CMEX10-55\"/>\n     <use transform=\"translate(334.818831 62.08753)scale(0.247871)\" xlink:href=\"#CMEX10-55\"/>\n     <use transform=\"translate(334.818831 47.215155)scale(0.247871)\" xlink:href=\"#CMEX10-55\"/>\n     <use transform=\"translate(334.818831 32.34278)scale(0.247871)\" xlink:href=\"#CMEX10-55\"/>\n     <use transform=\"translate(334.818831 17.470405)scale(0.247871)\" xlink:href=\"#CMEX10-55\"/>\n     <use transform=\"translate(334.818831 2.59803)scale(0.247871)\" xlink:href=\"#CMEX10-55\"/>\n     <use transform=\"translate(334.818831 -12.274345)scale(0.247871)\" xlink:href=\"#CMEX10-55\"/>\n     <use transform=\"translate(334.818831 -27.14672)scale(0.247871)\" xlink:href=\"#CMEX10-55\"/>\n     <use transform=\"translate(334.818831 -42.019095)scale(0.247871)\" xlink:href=\"#CMEX10-55\"/>\n     <use transform=\"translate(334.818831 -57.882915)scale(0.247871)\" xlink:href=\"#CMEX10-53\"/>\n    </g>\n   </g>\n  </g>\n </g>\n</svg>\n",
      "image/png": "[encoded data removed]"
     },
     "metadata": {},
     "execution_count": 81
    }
   ],
   "source": [
    "fig"
   ]
  },
  {
   "source": [
    "## Wielomian charakterystyczny\n",
    "\n",
    "Wielomian charakterystyczny macierzy $A$ o wymiarach $m \\times m$, to wielomian stopnia $m$ o postaci\n",
    "\n",
    "$$\n",
    "p(z)=\\mathrm{det}(zI-A)\n",
    "$$\n",
    "\n",
    "Wartości własne są pierwiastkami wielomianu charakterystycznego macierzy $A$\n"
   ],
   "cell_type": "markdown",
   "metadata": {}
  },
  {
   "source": [
    "## Macierz Frobeniusa\n",
    "### Macierz stowarzyszona (*Companion matrix*)\n",
    "\n",
    "Wielomian charakterystyczny macierzy \n",
    "$$\n",
    "\\begin{bmatrix}\n",
    "&1&&\\\\\n",
    "&&\\ddots&\\\\\n",
    "&&&1\\\\\n",
    "-a_0&-a_1&\\dots&-a_{n-1}\n",
    "\\end{bmatrix}\n",
    "$$\n",
    "Jest równy\n",
    "$$\n",
    "p(z)=z^n+a_{n-1}z^{n-1}+\\dots+a_1z+a_0\n",
    "$$\n",
    "**Konsekwencja**: Poszukiwanie pierwiastków wielomianu jest równoważne poszukiwaniu wartości własnych pewnej macierzy"
   ],
   "cell_type": "markdown",
   "metadata": {}
  },
  {
   "source": [
    "## Dodatkowe cechy wartości własnych\n",
    "\n",
    "- Wartości własne macierzy trójkątnej leżą na jej przekątnej.\n",
    "- Ślad macierzy jest równy sumie wartości własnych.\n",
    "- Wyznacznik macierzy jest równy iloczynowi wartości własnych.\n",
    "- Dla każdej macierzy nieosobliwej $P$ wartości własne macierzy $A$ i $PAP^{-1}$ są sobie równe.\n"
   ],
   "cell_type": "markdown",
   "metadata": {}
  },
  {
   "source": [
    "## Dekompozycje macierzy\n",
    "\n",
    "- Każdą macierz, która ma różne wartości własne można przedstawić w postaci\n",
    "$$ A=X\\Lambda X^{-1}$$\n",
    "gdzie $X$ to macierz wektorów własnych, a $\\Lambda$ to macierz diagonalna wartości własnych.\n",
    "- Każda macierz **normalna** (tj. $A^*A=AA^*$) może zostać przedstawiona w postaci\n",
    "$$ A =Q\\Lambda Q^*$$\n",
    "gdzie $Q$ jest macierzą unitarną.\n"
   ],
   "cell_type": "markdown",
   "metadata": {}
  },
  {
   "source": [
    "## Postać Shura\n",
    "\n",
    "- Każdą macierz kwadratową można przedstawić w formie rozkładu Schura, tj. \n",
    "$$A=QTQ^*$$\n",
    "gdzie $Q$ jest macierzą unitarną, zaś $T$ jest macierzą trójkątną górną.\n",
    "- Rozkład Schura jest podstawą wszystkich algorytmów wyliczania wartości własnych\n",
    "\n"
   ],
   "cell_type": "markdown",
   "metadata": {}
  },
  {
   "source": [
    "## Zasada konstrukcji rozkładu Schura\n",
    "\n",
    "Konstruujemy ciąg przekształceń za pomocą macierzy unitarnych (z obu stron), tak aby iloczyn\n",
    "$$\n",
    " \\underbrace{Q_j^*\\dots Q_2^*Q_1^*}_{Q^*}A\\underbrace{Q_1Q_2\\dots Q_j}_{Q}\n",
    "$$\n",
    "zmierzał do macierzy trójkątnej $T$ gdy $j\\rightarrow\\infty$."
   ],
   "cell_type": "markdown",
   "metadata": {}
  },
  {
   "source": [
    "## Algebraiczna transformacja do postaci Schura nie istnieje\n",
    "\n",
    "- po pierwsze - konsekwencja twierdzenia Abela\n",
    "- po drugie, musimy skonstruoować transfromację z obu stron\n",
    "\n",
    "$$\n",
    "\\underset{A}\n",
    "{\\begin{bmatrix}\n",
    "\\times&\\times&\\times&\\times&\\times\\\\[1ex]\n",
    "\\times&\\times&\\times&\\times&\\times\\\\[1ex]\n",
    "\\times&\\times&\\times&\\times&\\times\\\\[1ex]\n",
    "\\times&\\times&\\times&\\times&\\times\\\\[1ex]\n",
    "\\times&\\times&\\times&\\times&\\times\n",
    "\\end{bmatrix}}\n",
    "\\xrightarrow{Q_1^*\\cdot}\n",
    "\\underset{Q_1^*A}{\n",
    "\\begin{bmatrix}\n",
    "\\times&\\times&\\times&\\times&\\times\\\\[1ex]\n",
    "\\mathbf{0}&\\boldsymbol{\\times}&\\boldsymbol{\\times}&\\boldsymbol{\\times}&\\boldsymbol{\\times}\\\\[1ex]\n",
    "\\mathbf{0}&\\boldsymbol{\\times}&\\boldsymbol{\\times}&\\boldsymbol{\\times}&\\boldsymbol{\\times}\\\\[1ex]\n",
    "\\mathbf{0}&\\boldsymbol{\\times}&\\boldsymbol{\\times}&\\boldsymbol{\\times}&\\boldsymbol{\\times}\\\\[1ex]\n",
    "\\mathbf{0}&\\boldsymbol{\\times}&\\boldsymbol{\\times}&\\boldsymbol{\\times}&\\boldsymbol{\\times}\\\\[1ex]\n",
    "\\end{bmatrix}}\n",
    "\\xrightarrow{\\cdot Q_1}\n",
    "\\underset{Q_1^*AQ_1}{\n",
    "\\begin{bmatrix}\n",
    "\\boldsymbol{\\times}&\\boldsymbol{\\times}&\\boldsymbol{\\times}&\\boldsymbol{\\times}&\\boldsymbol{\\times}\\\\[1ex]\n",
    "\\boldsymbol{\\times}&\\boldsymbol{\\times}&\\boldsymbol{\\times}&\\boldsymbol{\\times}&\\boldsymbol{\\times}\\\\[1ex]\n",
    "\\boldsymbol{\\times}&\\boldsymbol{\\times}&\\boldsymbol{\\times}&\\boldsymbol{\\times}&\\boldsymbol{\\times}\\\\[1ex]\n",
    "\\boldsymbol{\\times}&\\boldsymbol{\\times}&\\boldsymbol{\\times}&\\boldsymbol{\\times}&\\boldsymbol{\\times}\\\\[1ex]\n",
    "\\boldsymbol{\\times}&\\boldsymbol{\\times}&\\boldsymbol{\\times}&\\boldsymbol{\\times}&\\boldsymbol{\\times}\\\\[1ex]\n",
    "\\end{bmatrix}}\n",
    "$$"
   ],
   "cell_type": "markdown",
   "metadata": {}
  },
  {
   "source": [
    "## Dwie fazy wyznaczania rozkładu macierzy\n",
    "\n",
    "Praktyczne algorytmy wyliczania wartości własnych wykorzystują dwuetapowe podejście.\n",
    "$$\n",
    "\\underset{A\\neq A^*}\n",
    "{\\begin{bmatrix}\n",
    "\\times&\\times&\\times&\\times&\\times\\\\[1ex]\n",
    "\\times&\\times&\\times&\\times&\\times\\\\[1ex]\n",
    "\\times&\\times&\\times&\\times&\\times\\\\[1ex]\n",
    "\\times&\\times&\\times&\\times&\\times\\\\[1ex]\n",
    "\\times&\\times&\\times&\\times&\\times\n",
    "\\end{bmatrix}}\n",
    "\\xrightarrow{\\mathrm{Faza\\ 1}}\n",
    "\\underset{H}{\n",
    "\\begin{bmatrix}\n",
    "\\times&\\times&\\times&\\times&\\times\\\\[1ex]\n",
    "\\times&\\times&\\times&\\times&\\times\\\\[1ex]\n",
    "&\\times&\\times&\\times&\\times\\\\[1ex]\n",
    "&&\\times&\\times&\\times\\\\[1ex]\n",
    "&&&\\times&\\times\n",
    "\\end{bmatrix}}\n",
    "\\xrightarrow{\\mathrm{Faza\\ 2}}\n",
    "\\underset{T}{\n",
    "\\begin{bmatrix}\n",
    "\\times&\\times&\\times&\\times&\\times\\\\[1ex]\n",
    "&\\times&\\times&\\times&\\times\\\\[1ex]\n",
    "&&\\times&\\times&\\times\\\\[1ex]\n",
    "&&&\\times&\\times\\\\[1ex]\n",
    "&&&&\\times\n",
    "\\end{bmatrix}}\n",
    "$$\n",
    "lub\n",
    "$$\n",
    "\\underset{A = A^*}\n",
    "{\\begin{bmatrix}\n",
    "\\times&\\times&\\times&\\times&\\times\\\\[1ex]\n",
    "\\times&\\times&\\times&\\times&\\times\\\\[1ex]\n",
    "\\times&\\times&\\times&\\times&\\times\\\\[1ex]\n",
    "\\times&\\times&\\times&\\times&\\times\\\\[1ex]\n",
    "\\times&\\times&\\times&\\times&\\times\n",
    "\\end{bmatrix}}\n",
    "\\xrightarrow{\\mathrm{Faza\\ 1}}\n",
    "\\underset{H}{\n",
    "\\begin{bmatrix}\n",
    "\\times&\\times&&&\\\\[1ex]\n",
    "\\times&\\times&\\times&&\\\\[1ex]\n",
    "&\\times&\\times&\\times&\\\\[1ex]\n",
    "&&\\times&\\times&\\times\\\\[1ex]\n",
    "&&&\\times&\\times\n",
    "\\end{bmatrix}}\n",
    "\\xrightarrow{\\mathrm{Faza\\ 2}}\n",
    "\\underset{D}{\n",
    "\\begin{bmatrix}\n",
    "\\times&&&&\\\\[1ex]\n",
    "&\\times&&&\\\\[1ex]\n",
    "&&\\times&&\\\\[1ex]\n",
    "&&&\\times&\\\\[1ex]\n",
    "&&&&\\times\n",
    "\\end{bmatrix}}\n",
    "$$\n"
   ],
   "cell_type": "markdown",
   "metadata": {}
  },
  {
   "source": [
    "## Transformacja da macierzy Hessenberga\n",
    "\n",
    "- Macierz Hessenberga, to macierz, która ma wszystkie elementy poniżej pierwszej subdiagonali równe zero. Dla macierzy symetrycznych jest to macierz trójprzekątniowa.\n",
    "\n",
    "- Transformację do macierzy Hessenberga można wyznaczyć dokładnie (nieiteracyjnie) poprzez $m$ przekształceń unitarnych (z lewej i prawej strony) \n"
   ],
   "cell_type": "markdown",
   "metadata": {}
  },
  {
   "source": [
    "## Przebieg transformacji\n",
    "\n",
    "$$\n",
    "\\underset{A}\n",
    "{\\begin{bmatrix}\n",
    "\\times&\\times&\\times&\\times&\\times\\\\[1ex]\n",
    "\\times&\\times&\\times&\\times&\\times\\\\[1ex]\n",
    "\\times&\\times&\\times&\\times&\\times\\\\[1ex]\n",
    "\\times&\\times&\\times&\\times&\\times\\\\[1ex]\n",
    "\\times&\\times&\\times&\\times&\\times\n",
    "\\end{bmatrix}}\n",
    "\\xrightarrow{Q_1^*\\cdot}\n",
    "\\underset{Q_1^*A}{\n",
    "\\begin{bmatrix}\n",
    "\\times&\\times&\\times&\\times&\\times\\\\[1ex]\n",
    "\\boldsymbol{\\times}&\\boldsymbol{\\times}&\\boldsymbol{\\times}&\\boldsymbol{\\times}&\\boldsymbol{\\times}\\\\[1ex]\n",
    "\\mathbf{0}&\\boldsymbol{\\times}&\\boldsymbol{\\times}&\\boldsymbol{\\times}&\\boldsymbol{\\times}\\\\[1ex]\n",
    "\\mathbf{0}&\\boldsymbol{\\times}&\\boldsymbol{\\times}&\\boldsymbol{\\times}&\\boldsymbol{\\times}\\\\[1ex]\n",
    "\\mathbf{0}&\\boldsymbol{\\times}&\\boldsymbol{\\times}&\\boldsymbol{\\times}&\\boldsymbol{\\times}\\\\[1ex]\n",
    "\\end{bmatrix}}\n",
    "\\xrightarrow{\\cdot Q_1}\n",
    "\\underset{Q_1^*AQ_1}{\n",
    "\\begin{bmatrix}\n",
    "\\times&\\boldsymbol{\\times}&\\boldsymbol{\\times}&\\boldsymbol{\\times}&\\boldsymbol{\\times}\\\\[1ex]\n",
    "\\times&\\boldsymbol{\\times}&\\boldsymbol{\\times}&\\boldsymbol{\\times}&\\boldsymbol{\\times}\\\\[1ex]\n",
    "&\\boldsymbol{\\times}&\\boldsymbol{\\times}&\\boldsymbol{\\times}&\\boldsymbol{\\times}\\\\[1ex]\n",
    "&\\boldsymbol{\\times}&\\boldsymbol{\\times}&\\boldsymbol{\\times}&\\boldsymbol{\\times}\\\\[1ex]\n",
    "&\\boldsymbol{\\times}&\\boldsymbol{\\times}&\\boldsymbol{\\times}&\\boldsymbol{\\times}\\\\[1ex]\n",
    "\\end{bmatrix}}\n",
    "$$\n",
    "\n",
    "$$\n",
    "\\underset{Q_1^*AQ_1}\n",
    "{\\begin{bmatrix}\n",
    "\\times&\\times&\\times&\\times&\\times\\\\[1ex]\n",
    "\\times&\\times&\\times&\\times&\\times\\\\[1ex]\n",
    "&\\times&\\times&\\times&\\times\\\\[1ex]\n",
    "&\\times&\\times&\\times&\\times\\\\[1ex]\n",
    "&\\times&\\times&\\times&\\times\n",
    "\\end{bmatrix}}\n",
    "\\xrightarrow{Q_2^*\\cdot}\n",
    "\\underset{Q_2^*Q_1^*AQ_1}{\n",
    "\\begin{bmatrix}\n",
    "\\times&\\times&\\times&\\times&\\times\\\\[1ex]\n",
    "\\times&\\times&\\times&\\times&\\times\\\\[1ex]\n",
    "&\\boldsymbol{\\times}&\\boldsymbol{\\times}&\\boldsymbol{\\times}&\\boldsymbol{\\times}\\\\[1ex]\n",
    "&\\mathbf{0}&\\boldsymbol{\\times}&\\boldsymbol{\\times}&\\boldsymbol{\\times}\\\\[1ex]\n",
    "&\\mathbf{0}&\\boldsymbol{\\times}&\\boldsymbol{\\times}&\\boldsymbol{\\times}\\\\[1ex]\n",
    "\\end{bmatrix}}\n",
    "\\xrightarrow{\\cdot Q_2}\n",
    "\\underset{Q_2^*Q_1^*AQ_1Q_2}{\n",
    "\\begin{bmatrix}\n",
    "\\times&{\\times}&\\boldsymbol{\\times}&\\boldsymbol{\\times}&\\boldsymbol{\\times}\\\\[1ex]\n",
    "\\times&{\\times}&\\boldsymbol{\\times}&\\boldsymbol{\\times}&\\boldsymbol{\\times}\\\\[1ex]\n",
    "&{\\times}&\\boldsymbol{\\times}&\\boldsymbol{\\times}&\\boldsymbol{\\times}\\\\[1ex]\n",
    "&&\\boldsymbol{\\times}&\\boldsymbol{\\times}&\\boldsymbol{\\times}\\\\[1ex]\n",
    "&&\\boldsymbol{\\times}&\\boldsymbol{\\times}&\\boldsymbol{\\times}\\\\[1ex]\n",
    "\\end{bmatrix}}\n",
    "$$\n",
    "Finalnie $m-2$ kroków\n",
    "$$\n",
    " \\underbrace{Q_{m-2}^*\\dots Q_2^*Q_1^*}_{Q^*}A\\underbrace{Q_1Q_2\\dots Q_{m-2}}_{Q}=H\n",
    "$$"
   ],
   "cell_type": "markdown",
   "metadata": {}
  },
  {
   "source": [
    "## Złożoność obliczeniowa i stabilność\n",
    "\n",
    "Transformacja do postaci Hessenberga dla dowolnej macierzy ma złożoność $O\\left(\\frac{10}{3}m^3\\right)$.\n",
    "\n",
    "Dla macierzy symetrycznych możliwa jest redukcja do $O\\left(\\frac{4}{3}m^3\\right)$.\n",
    "\n",
    "Algorytm transformacji do macierzy Hessenberga, podobnie jak rozkład QR jest stabilny wstecznie.\n"
   ],
   "cell_type": "markdown",
   "metadata": {}
  },
  {
   "source": [
    "## Iloraz Rayleigha\n",
    "\n",
    "$$ r(x)=\\cfrac{x^*Ax}{x^*x}$$\n",
    "\n",
    "Łatwo zauważyć, że jeśli $x$ jest wektorem własnym to $r(x)=\\lambda$, gdzie $\\lambda$ to odpowiadająca mu wartość własna. \n",
    "Jeżeli $\\Vert x\\Vert=1$ to $r(x)=x^\\mathsf{T}Ax$\n",
    "\n",
    "Iloraz Rayleigha jest kwadratowo dokładną estymatą wartości własnej (tzn. że szereg Taylora różnicy estymaty wektora własnego od tego zawiera wyrazy tylko rzędów 2 lub wyższych).\n",
    "\n",
    "** Uwaga ** Dla uproszczenia będziemy dalej rozważać macierze o rzeczywistych, różnych wartościach własnych o orgogonalnych wektorach własnych. To nie zmienia dużo dla zrozumienia metod."
   ],
   "cell_type": "markdown",
   "metadata": {}
  },
  {
   "source": [
    "## Iteracja potęgowa\n",
    "Niech macierz $A$ ma wektory własne $q_1,\\ q_2,\\ \\ldots, q_m$ i $m$ różnych wartości własnych. Wtedy ciąg wektorów \n",
    "$$\n",
    "\\frac{v_0}{\\|v_0\\|},\\ \\frac{A v_0}{\\|A v_0\\|},\\ \\frac{A^2 v_0}{\\|A^2 v_0\\|} ,\\ \\frac{A^3 v_0}{\\|A^3 v_0\\|},\\ldots\n",
    "$$\n",
    "jest zbieżny do wektora własnego odpowiadającego największej co do modułu wartości własnej.\n",
    "\n",
    "Dzieje się tak ponieważ, wektor $v_0$ możemy przedstawić jako kombinację wektorów własnych\n",
    "$$\n",
    "v_0=a_1q_1+a_2q_2+\\ldots+a_mq_m\n",
    "$$\n",
    "więc\n",
    "$$\n",
    "\\begin{aligned}\n",
    "v_k={}& c_kA^k v_0\\\\\n",
    "={}& c_k(a_1\\lambda_1^kq_1+a_2\\lambda_2^kq_2+\\dots+a_m\\lambda_m^mq_m)\\\\\n",
    "={}& c_k \\lambda_1^k (a_1q_1+a_2(\\lambda_2/\\lambda_1)^kq_2+\\dots+a_m(\\lambda_m/\\lambda_1)^kq_m)\n",
    "\\end{aligned}\n",
    "$$\n"
   ],
   "cell_type": "markdown",
   "metadata": {}
  },
  {
   "cell_type": "code",
   "execution_count": 119,
   "metadata": {},
   "outputs": [],
   "source": [
    "def power_iteration(A,v0,maxiter=100):\n",
    "    v=[v0/np.linalg.norm(v0)]\n",
    "    lam=[v[0].T@A@v[0]]\n",
    "    for k in range(1,maxiter):\n",
    "        w=A@v[k-1]\n",
    "        v.append(w/np.linalg.norm(w))\n",
    "        lam.append((v[k].T@A@v[k])[0][0])\n",
    "        if np.linalg.norm(lam[k]-lam[k-1])<np.spacing(1):\n",
    "            return (v,lam)\n",
    "    return (v,lam)\n"
   ]
  },
  {
   "cell_type": "code",
   "execution_count": 201,
   "metadata": {},
   "outputs": [],
   "source": [
    "l1=1.1\n",
    "l2=1\n",
    "\n",
    "Q,_ = np.linalg.qr(np.random.random([2,2]))\n",
    "\n",
    "A=Q@np.diag([l1,l2])@Q.T\n",
    "\n",
    "v,lam=power_iteration(A,np.array([[3],[1]]),1000)"
   ]
  },
  {
   "cell_type": "code",
   "execution_count": 202,
   "metadata": {},
   "outputs": [
    {
     "output_type": "stream",
     "name": "stdout",
     "text": [
      "171\n1.0999999999999992\n"
     ]
    }
   ],
   "source": [
    "print(len(lam))\n",
    "print(lam[-1])"
   ]
  },
  {
   "source": [
    "## Zbieżność iteracji potęgowej\n",
    "- Iteracja potęgowa zbiega tylko do wektora związanego z największą wartością własną\n",
    "- Iteracja potęgowa ma zbieżność liniową, z kroku na krok poprawa następuje proporcjonalnie do ilorazu największej wartości własnej i kolejnej.\n",
    "- Problem gdy wartości własne są bliskie sobie"
   ],
   "cell_type": "markdown",
   "metadata": {}
  },
  {
   "source": [
    "## Iteracja odwrotna\n",
    "Dla każdej rzeczywistej liczby $mu\\in R$, która nie jest warością własną macierzy $A$ wektory własne macierzy $(A-\\mu I)^{-1}$ są takie same jak wektory własne macierzy $A$ zaś odpowiadające im wartości własne to ($\\lambda_j-\\mu)^{-1}$ gdzie ${\\lambda_j}$ to wartości własne macierzy $A$.\n",
    "\n",
    "Pozwala nam to na ominięcie podstawowego problemu iteracji potęgowej. Jeżeli $\\mu$ jest bliskie wartości własnej $\\lambda_J$, wtedy $(\\lambda_J-\\mu)^{-1}$ będzie dużo większe od $(\\lambda_j-\\mu)^{-1}$ dla wszystkich $j\\neq J$. \n",
    "\n",
    "Iteracja potęgowa zastosowana do $(A-\\mu I)^{-1}$ będzie szybko zbiegać do $q_J$. Nazywamy to **iteracją odwrotną**.\n"
   ],
   "cell_type": "markdown",
   "metadata": {}
  },
  {
   "cell_type": "code",
   "execution_count": 116,
   "metadata": {},
   "outputs": [],
   "source": [
    "def inverse_iteration(A,v0,mu,maxiter=100):\n",
    "    v=[v0/np.linalg.norm(v0)]\n",
    "    lam=[v[0].T@A@v[0]]\n",
    "    I=np.identity(len(A))\n",
    "    for k in range(1,maxiter):\n",
    "        w=np.linalg.solve(A-mu*I,v[k-1])\n",
    "        v.append(w/np.linalg.norm(w))\n",
    "        lam.append((v[k].T@A@v[k])[0][0])\n",
    "        if np.linalg.norm(lam[k]-lam[k-1])<np.spacing(1):\n",
    "            return (v,lam)\n",
    "    return (v,lam)"
   ]
  },
  {
   "cell_type": "code",
   "execution_count": 208,
   "metadata": {},
   "outputs": [
    {
     "output_type": "stream",
     "name": "stdout",
     "text": [
      "18\n1.1000000000000003\n"
     ]
    }
   ],
   "source": [
    "\n",
    "v,lam=inverse_iteration(A,np.array([[3],[1]]),1.15,1000)\n",
    "print(len(lam))\n",
    "print(lam[-1])"
   ]
  },
  {
   "source": [
    "## Połączenie obu podejść\n",
    "\n",
    "Iloraz Rayleigha pozwala na wyznaczenie wartości własnej znając wektor własny, a iteracja odwrotna pozwala na wyznaczenie wektora własnego znając estymatę wartości własnej.\n",
    "\n",
    "Rozwiązaniem jest tzw. **iteracja ilorazu Rayleigha**, która polega na naprzemiennym stosowaniu obydwu algorytmów"
   ],
   "cell_type": "markdown",
   "metadata": {}
  },
  {
   "cell_type": "code",
   "execution_count": 174,
   "metadata": {},
   "outputs": [],
   "source": [
    "def rayleigh_quotient_iteration(A,v0,maxiter=100):\n",
    "    v=[v0/np.linalg.norm(v0)]\n",
    "    lam=[(v0.T@A@v0)[0][0]]\n",
    "    I=np.identity(len(A))\n",
    "    for k in range(1,maxiter):\n",
    "        try:\n",
    "            w=np.linalg.solve(A-lam[k-1]*I,v[k-1])\n",
    "        except np.linalg.LinAlgError as err:\n",
    "            if 'Singular matrix' in str(err):\n",
    "                return (v,lam)\n",
    "        # your error handling block\n",
    "            else:\n",
    "                raise(np.linalg.LinAlgError)\n",
    "        v.append(w/np.linalg.norm(w))\n",
    "        lam.append((v[k].T@A@v[k])[0][0])\n",
    "        if np.linalg.norm(lam[k]-lam[k-1])<np.spacing(1):\n",
    "            return (v,lam)\n",
    "    return (v,lam)"
   ]
  },
  {
   "cell_type": "code",
   "execution_count": 213,
   "metadata": {
    "tags": []
   },
   "outputs": [
    {
     "output_type": "stream",
     "name": "stdout",
     "text": [
      "6\n1.1000000000000008\n"
     ]
    }
   ],
   "source": [
    "\n",
    "v,lam=rayleigh_quotient_iteration(A,np.array([[1],[5]]),1000)\n",
    "print(len(lam))\n",
    "print(lam[-1])"
   ]
  },
  {
   "source": [
    "## Zbieżność iteracji ilorazu Rayleigha\n",
    "Jest to jeden z najszybciej zbieżnych algorytmów numerycznych.\n",
    "Zarówno wartości jak i wektory własne zbiegają w sposób sześcienny dla odpowiednio bliskich przybliżeń."
   ],
   "cell_type": "markdown",
   "metadata": {}
  },
  {
   "cell_type": "code",
   "execution_count": 215,
   "metadata": {},
   "outputs": [
    {
     "output_type": "stream",
     "name": "stdout",
     "text": [
      "5\n5.2143197433775335\n"
     ]
    }
   ],
   "source": [
    "A=np.array([[2,1,1],[1,3,1],[1,1,4]])\n",
    "v,lam=rayleigh_quotient_iteration(A,np.array([[1],[1],[1]]/np.sqrt(3)),1000)\n",
    "print(len(lam))\n",
    "print(lam[-1])"
   ]
  },
  {
   "cell_type": "code",
   "execution_count": 177,
   "metadata": {},
   "outputs": [
    {
     "output_type": "execute_result",
     "data": {
      "text/plain": [
       "[5.000000000000002,\n",
       " 5.21311475409836,\n",
       " 5.214319743184031,\n",
       " 5.2143197433775335,\n",
       " 5.2143197433775335]"
      ]
     },
     "metadata": {},
     "execution_count": 177
    }
   ],
   "source": [
    "lam"
   ]
  },
  {
   "source": [
    "## Agorytm QR\n",
    "\n",
    "Bezpośrednie poszukiwanie wartości własnych iteracją ilorazu Rayleigha jest utrudnione ze względu na zależność od wektora początkowego. Stąd pomysł, żeby szukać w różnych kierunkach jednocześnie - najlepiej ortogonalnych. \n",
    "\n",
    "Do konstrukcji poszukiwań zastosujemy rozkład QR, dla macierzy $A$\n",
    "\n",
    "$$\n",
    "\\begin{aligned}\n",
    "A_0={}&A\\\\\n",
    "Q_kR_k={}&A_{k-1}\\\\\n",
    "A_k={}&R_kQ_k\n",
    "\\end{aligned}\n",
    "$$\n",
    "Iteracyjnie rozkładamy macierz na rozkład QR a następnie składamy ją w odwrotnej kolejności.\n",
    "\n",
    "Taki algorytm jest zbieżny do postaci Shura ale wolno.\n"
   ],
   "cell_type": "markdown",
   "metadata": {}
  },
  {
   "cell_type": "code",
   "execution_count": 225,
   "metadata": {},
   "outputs": [],
   "source": [
    "def matprint(mat, fmt=\"g\"):\n",
    "    col_maxes = [max([len((\"{:\"+fmt+\"}\").format(x)) for x in col]) for col in mat.T]\n",
    "    for x in mat:\n",
    "        for i, y in enumerate(x):\n",
    "            print((\"{:\"#+str(col_maxes[i])\n",
    "                    +fmt+\"}\").format(y), end=\"  \")\n",
    "        print(\"\")\n",
    "      "
   ]
  },
  {
   "cell_type": "code",
   "execution_count": 226,
   "metadata": {},
   "outputs": [],
   "source": [
    "def qr_no_shift(INP,maxit=1001):\n",
    "    A1=INP.copy()\n",
    "    for k in range(1,maxit):\n",
    "        Q,R=np.linalg.qr(A1);\n",
    "        A1=R@Q;\n",
    "        if np.sum(np.abs(np.diag(A1,-1))) < np.spacing(1):\n",
    "            return (A1,k)\n",
    "    return (A1,k);"
   ]
  },
  {
   "cell_type": "code",
   "execution_count": 227,
   "metadata": {},
   "outputs": [
    {
     "output_type": "stream",
     "name": "stdout",
     "text": [
      "       4.1        -1.1       -0.56       -0.12       -0.44       -0.31  \n      -1.1         3.6          -1        0.38        -0.4       -0.45  \n     -0.56          -1           3       -0.49       -0.62        0.11  \n     -0.12        0.38       -0.49         3.3        -1.1        -1.7  \n     -0.44        -0.4       -0.62        -1.1         3.6        0.61  \n     -0.31       -0.45        0.11        -1.7        0.61         3.5  \n"
     ]
    }
   ],
   "source": [
    "D = np.diag([*range(1,7)])\n",
    "P = np.random.random(D.shape)\n",
    "#macierz symetryczna\n",
    "Q,_ = np.linalg.qr(P)\n",
    "A = Q @ D @ Q.T\n",
    "\n",
    "matprint(A,'10.2g')\n"
   ]
  },
  {
   "cell_type": "code",
   "execution_count": 228,
   "metadata": {},
   "outputs": [
    {
     "output_type": "stream",
     "name": "stdout",
     "text": [
      "         6     3.5e-16    -2.3e-16     8.5e-17    -8.1e-16    -3.5e-16  \n   1.9e-16           5    -7.2e-17       4e-17     1.6e-16       2e-18  \n   1.7e-38    -8.6e-23           4    -2.5e-16    -3.8e-17     1.6e-16  \n   1.9e-66    -9.1e-51     1.9e-29           3     2.9e-16    -3.4e-16  \n -7.1e-107     3.7e-91      -3e-68     3.9e-40           2     2.1e-16  \n  1.3e-173   -6.6e-158    2.5e-136    1.3e-108     3.3e-68           1  \nCałkowita liczba iteracji (klasyczny algorytm QR): 225\n"
     ]
    }
   ],
   "source": [
    "# %% no shift\n",
    "A_pom,totalit = qr_no_shift(A)\n",
    "matprint(A_pom,'10.2g')\n",
    "print('Całkowita liczba iteracji (klasyczny algorytm QR): '+str(totalit))"
   ]
  },
  {
   "source": [
    "## Praktyczna postać algorytmu QR\n",
    "\n",
    "Praktyczny algorytm QR:\n",
    "- Rozpoczyna od macierzy w postaci Hessenberga;\n",
    "- Wykorzystuje iterację ilorazu Rayleigha dla przyspieszenia zbieżności;\n",
    "- W momencie pojawienia się wartości bliskich zeru pod przekątną macierz jest rozdzielana na podproblemy.\n"
   ],
   "cell_type": "markdown",
   "metadata": {}
  },
  {
   "cell_type": "code",
   "execution_count": null,
   "metadata": {},
   "outputs": [],
   "source": []
  }
 ]
}